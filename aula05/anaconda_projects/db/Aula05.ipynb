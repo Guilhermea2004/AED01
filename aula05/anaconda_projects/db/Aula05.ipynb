{
 "cells": [
  {
   "cell_type": "markdown",
   "id": "5b51bd3d-e602-4259-a83e-ac9e6605496a",
   "metadata": {},
   "source": [
    "# Tipo Inteiro\n",
    "\n"
   ]
  },
  {
   "cell_type": "code",
   "execution_count": 2,
   "id": "8741e919-ee68-4da6-bc0a-c4f3d0d5e8da",
   "metadata": {},
   "outputs": [
    {
     "data": {
      "text/plain": [
       "10"
      ]
     },
     "execution_count": 2,
     "metadata": {},
     "output_type": "execute_result"
    }
   ],
   "source": [
    "10\n"
   ]
  },
  {
   "cell_type": "code",
   "execution_count": 6,
   "id": "cabcc085-8714-4f3c-8368-25243747111b",
   "metadata": {},
   "outputs": [],
   "source": [
    "num=10"
   ]
  },
  {
   "cell_type": "code",
   "execution_count": 8,
   "id": "b30e47ac-2d1f-4f5c-b5d7-545fc023c879",
   "metadata": {},
   "outputs": [
    {
     "data": {
      "text/plain": [
       "10"
      ]
     },
     "execution_count": 8,
     "metadata": {},
     "output_type": "execute_result"
    }
   ],
   "source": [
    "num"
   ]
  },
  {
   "cell_type": "code",
   "execution_count": 10,
   "id": "b55e43e0-1d49-41d7-acd6-75004d0491b6",
   "metadata": {},
   "outputs": [
    {
     "data": {
      "text/plain": [
       "int"
      ]
     },
     "execution_count": 10,
     "metadata": {},
     "output_type": "execute_result"
    }
   ],
   "source": [
    "type(num)"
   ]
  },
  {
   "cell_type": "code",
   "execution_count": 12,
   "id": "eaff6e60-2f53-4cac-9c2e-402b12fa86a4",
   "metadata": {},
   "outputs": [
    {
     "data": {
      "text/plain": [
       "3.5"
      ]
     },
     "execution_count": 12,
     "metadata": {},
     "output_type": "execute_result"
    }
   ],
   "source": [
    "7/2"
   ]
  },
  {
   "cell_type": "code",
   "execution_count": 14,
   "id": "f147fa78-d8df-4b64-92ae-277f0f4b8362",
   "metadata": {},
   "outputs": [],
   "source": [
    "num=20"
   ]
  },
  {
   "cell_type": "code",
   "execution_count": 16,
   "id": "ac70a796-12bc-4e3f-950f-d1b9fab1e9db",
   "metadata": {},
   "outputs": [
    {
     "data": {
      "text/plain": [
       "20"
      ]
     },
     "execution_count": 16,
     "metadata": {},
     "output_type": "execute_result"
    }
   ],
   "source": [
    "num"
   ]
  },
  {
   "cell_type": "code",
   "execution_count": 18,
   "id": "7e6da03b-1b8a-4da0-bc18-a47612739f0d",
   "metadata": {},
   "outputs": [],
   "source": [
    "x=5"
   ]
  },
  {
   "cell_type": "code",
   "execution_count": 20,
   "id": "fac39c30-74f8-4d0c-80e6-aecf257c9cd9",
   "metadata": {},
   "outputs": [
    {
     "data": {
      "text/plain": [
       "25"
      ]
     },
     "execution_count": 20,
     "metadata": {},
     "output_type": "execute_result"
    }
   ],
   "source": [
    "num + x"
   ]
  },
  {
   "cell_type": "code",
   "execution_count": 22,
   "id": "cb55e93e-f232-4dd9-a7c2-f6dfe2d90bef",
   "metadata": {},
   "outputs": [],
   "source": [
    "soma = num + x"
   ]
  },
  {
   "cell_type": "code",
   "execution_count": 24,
   "id": "1d19e077-388e-4eed-97f7-2e3afe9ec50c",
   "metadata": {},
   "outputs": [
    {
     "data": {
      "text/plain": [
       "25"
      ]
     },
     "execution_count": 24,
     "metadata": {},
     "output_type": "execute_result"
    }
   ],
   "source": [
    "soma"
   ]
  },
  {
   "cell_type": "code",
   "execution_count": 26,
   "id": "96f3cd1f-8739-4a0a-9cec-9944cc060192",
   "metadata": {},
   "outputs": [],
   "source": [
    "mult=num*x"
   ]
  },
  {
   "cell_type": "code",
   "execution_count": 28,
   "id": "b888fcb0-61d3-4243-8f77-4c3a356a5198",
   "metadata": {},
   "outputs": [
    {
     "data": {
      "text/plain": [
       "100"
      ]
     },
     "execution_count": 28,
     "metadata": {},
     "output_type": "execute_result"
    }
   ],
   "source": [
    "mult"
   ]
  },
  {
   "cell_type": "code",
   "execution_count": 30,
   "id": "3ece0282-2a3f-495d-83a0-c0aaea955317",
   "metadata": {},
   "outputs": [
    {
     "data": {
      "text/plain": [
       "107150860718626732094842504906000181056140481170553360744375038837035105112493612249319837881569585812759467291755314682518714528569231404359845775746985748039345677748242309854210746050623711418779541821530464749835819412673987675591655439460770629145711964776865421676604298316526243868372056680693760000000000000000000000000000000000000000000000000000000000000000000000000000000000000000000000000000000000000000000000000000000000000000000000000000000000000000000000000000000000000000000000000000000000000000000000000000000000000000000000000000000000000000000000000000000000000000000000000000000000000000000000000000000000000000000000000000000000000000000000000000000000000000000000000000000000000000000000000000000000000000000000000000000000000000000000000000000000000000000000000000000000000000000000000000000000000000000000000000000000000000000000000000000000000000000000000000000000000000000000000000000000000000000000000000000000000000000000000000000000000000000000000000000000000000000000000000000000000000000000000000000000000000000000000000000000000000000000000000000000000000000000000000000000000000000000000000000000000000000000000000000000000000000000000000000000000000000000000000000000000000000000000000000000000000000000000000000000000000000000000000000000000000000000000000000000000000"
      ]
     },
     "execution_count": 30,
     "metadata": {},
     "output_type": "execute_result"
    }
   ],
   "source": [
    "20**1000"
   ]
  },
  {
   "cell_type": "code",
   "execution_count": 32,
   "id": "b9b33213-8247-46a8-aade-ee00bdc8bca0",
   "metadata": {},
   "outputs": [],
   "source": [
    "x=num-30"
   ]
  },
  {
   "cell_type": "code",
   "execution_count": 34,
   "id": "47f0990c-fba5-4411-abec-67c7b58617ec",
   "metadata": {},
   "outputs": [
    {
     "data": {
      "text/plain": [
       "-10"
      ]
     },
     "execution_count": 34,
     "metadata": {},
     "output_type": "execute_result"
    }
   ],
   "source": [
    "x"
   ]
  },
  {
   "cell_type": "code",
   "execution_count": 36,
   "id": "b583a0b8-7226-4514-8134-b1d7aeb1a49c",
   "metadata": {},
   "outputs": [
    {
     "data": {
      "text/plain": [
       "3.5"
      ]
     },
     "execution_count": 36,
     "metadata": {},
     "output_type": "execute_result"
    }
   ],
   "source": [
    "7/2"
   ]
  },
  {
   "cell_type": "code",
   "execution_count": 38,
   "id": "b2c74b18-5f4b-4207-8722-049535205d0a",
   "metadata": {},
   "outputs": [
    {
     "data": {
      "text/plain": [
       "3"
      ]
     },
     "execution_count": 38,
     "metadata": {},
     "output_type": "execute_result"
    }
   ],
   "source": [
    "7//2"
   ]
  },
  {
   "cell_type": "code",
   "execution_count": 40,
   "id": "3d845a15-a4be-4839-9818-68bae11403a0",
   "metadata": {},
   "outputs": [
    {
     "data": {
      "text/plain": [
       "1"
      ]
     },
     "execution_count": 40,
     "metadata": {},
     "output_type": "execute_result"
    }
   ],
   "source": [
    "7%2"
   ]
  },
  {
   "cell_type": "code",
   "execution_count": 42,
   "id": "f0f27d3f-90da-4225-a850-30435a5b4ab1",
   "metadata": {},
   "outputs": [],
   "source": [
    "num=x+3"
   ]
  },
  {
   "cell_type": "code",
   "execution_count": 44,
   "id": "03d6fdce-4241-4c6b-8a9e-8d72dda586f1",
   "metadata": {},
   "outputs": [
    {
     "data": {
      "text/plain": [
       "-7"
      ]
     },
     "execution_count": 44,
     "metadata": {},
     "output_type": "execute_result"
    }
   ],
   "source": [
    "num"
   ]
  },
  {
   "cell_type": "code",
   "execution_count": 46,
   "id": "6616b217-226a-4bb3-8639-984fb32056c7",
   "metadata": {},
   "outputs": [],
   "source": [
    "num=num+20"
   ]
  },
  {
   "cell_type": "code",
   "execution_count": 48,
   "id": "11f26ce2-0f7f-4b00-8c2a-078b4ab2c111",
   "metadata": {},
   "outputs": [
    {
     "data": {
      "text/plain": [
       "13"
      ]
     },
     "execution_count": 48,
     "metadata": {},
     "output_type": "execute_result"
    }
   ],
   "source": [
    "num"
   ]
  },
  {
   "cell_type": "code",
   "execution_count": 50,
   "id": "5d6386da-65fb-4695-91ef-321da2495131",
   "metadata": {},
   "outputs": [],
   "source": [
    "num+=20"
   ]
  },
  {
   "cell_type": "code",
   "execution_count": 52,
   "id": "f8fff51f-fdfa-4f27-9b50-40f256f9cf03",
   "metadata": {},
   "outputs": [
    {
     "data": {
      "text/plain": [
       "33"
      ]
     },
     "execution_count": 52,
     "metadata": {},
     "output_type": "execute_result"
    }
   ],
   "source": [
    "num"
   ]
  },
  {
   "cell_type": "code",
   "execution_count": 58,
   "id": "eed14785-1021-4f9d-b4c5-4e7a7440c0e7",
   "metadata": {},
   "outputs": [
    {
     "name": "stdout",
     "output_type": "stream",
     "text": [
      "13\n"
     ]
    }
   ],
   "source": [
    "num-=20\n",
    "print(num)"
   ]
  },
  {
   "cell_type": "markdown",
   "id": "b80e613c-dd14-4089-a09b-3a78f33698f8",
   "metadata": {},
   "source": [
    "num*=2"
   ]
  },
  {
   "cell_type": "code",
   "execution_count": 61,
   "id": "f8c932fc-932e-496d-9d4d-ca74c24d175c",
   "metadata": {},
   "outputs": [],
   "source": [
    "num/=13"
   ]
  },
  {
   "cell_type": "code",
   "execution_count": 63,
   "id": "22b3d70b-e643-409d-9e26-5be5bcc42902",
   "metadata": {},
   "outputs": [
    {
     "data": {
      "text/plain": [
       "1.0"
      ]
     },
     "execution_count": 63,
     "metadata": {},
     "output_type": "execute_result"
    }
   ],
   "source": [
    "num"
   ]
  },
  {
   "cell_type": "code",
   "execution_count": 65,
   "id": "ea83cf8e-e5c9-4895-92bb-fb73e6a08104",
   "metadata": {},
   "outputs": [
    {
     "data": {
      "text/plain": [
       "2.0"
      ]
     },
     "execution_count": 65,
     "metadata": {},
     "output_type": "execute_result"
    }
   ],
   "source": [
    "num*2"
   ]
  },
  {
   "cell_type": "code",
   "execution_count": 67,
   "id": "97237fba-3189-4756-978d-b33896a90051",
   "metadata": {},
   "outputs": [
    {
     "data": {
      "text/plain": [
       "float"
      ]
     },
     "execution_count": 67,
     "metadata": {},
     "output_type": "execute_result"
    }
   ],
   "source": [
    "type(num)"
   ]
  },
  {
   "cell_type": "markdown",
   "id": "bec8f7cb-b614-492f-9f37-ffa9e31bfdda",
   "metadata": {},
   "source": [
    "# TIPO FLOAT"
   ]
  },
  {
   "cell_type": "code",
   "execution_count": 74,
   "id": "01e1e2e7-4ae8-4c41-8500-f77014333e7d",
   "metadata": {},
   "outputs": [
    {
     "name": "stdout",
     "output_type": "stream",
     "text": [
      "2.0\n"
     ]
    }
   ],
   "source": [
    "print(num)"
   ]
  },
  {
   "cell_type": "code",
   "execution_count": 76,
   "id": "fe779e26-a1de-4465-879d-1bcfe3824c08",
   "metadata": {},
   "outputs": [
    {
     "data": {
      "text/plain": [
       "31.0"
      ]
     },
     "execution_count": 76,
     "metadata": {},
     "output_type": "execute_result"
    }
   ],
   "source": [
    "10.44+20.56"
   ]
  },
  {
   "cell_type": "code",
   "execution_count": 78,
   "id": "2c96fbed-faa5-4f01-87e9-1b66b94dc695",
   "metadata": {},
   "outputs": [],
   "source": [
    "num*=2.2"
   ]
  },
  {
   "cell_type": "code",
   "execution_count": 80,
   "id": "8fb40372-10b2-46ba-b89a-b25ab6c1321d",
   "metadata": {},
   "outputs": [
    {
     "name": "stdout",
     "output_type": "stream",
     "text": [
      "4.4\n"
     ]
    }
   ],
   "source": [
    "print(num)"
   ]
  },
  {
   "cell_type": "markdown",
   "id": "9c42d193-eed3-4f49-a86f-b2e87f06d1d6",
   "metadata": {},
   "source": [
    "# NÚMEROS COMPLEXOS (ENGENHARIA)"
   ]
  },
  {
   "cell_type": "code",
   "execution_count": 83,
   "id": "3ff66636-ae4b-4dbe-a3ee-316d87dbfa11",
   "metadata": {},
   "outputs": [
    {
     "data": {
      "text/plain": [
       "5j"
      ]
     },
     "execution_count": 83,
     "metadata": {},
     "output_type": "execute_result"
    }
   ],
   "source": [
    "5J"
   ]
  },
  {
   "cell_type": "code",
   "execution_count": 85,
   "id": "17bbbb2e-2434-469f-9fb1-f48323afb3cf",
   "metadata": {},
   "outputs": [],
   "source": [
    "Y=6+5J"
   ]
  },
  {
   "cell_type": "code",
   "execution_count": 87,
   "id": "c311625c-320e-4810-bcb0-4e15d403849f",
   "metadata": {},
   "outputs": [
    {
     "data": {
      "text/plain": [
       "(6+5j)"
      ]
     },
     "execution_count": 87,
     "metadata": {},
     "output_type": "execute_result"
    }
   ],
   "source": [
    "Y"
   ]
  },
  {
   "cell_type": "code",
   "execution_count": 95,
   "id": "b1096a85-31fc-47b5-81a5-381ca3f4ed9e",
   "metadata": {},
   "outputs": [
    {
     "data": {
      "text/plain": [
       "complex"
      ]
     },
     "execution_count": 95,
     "metadata": {},
     "output_type": "execute_result"
    }
   ],
   "source": [
    "type(Y)"
   ]
  },
  {
   "cell_type": "markdown",
   "id": "6c09794c-b1d0-4119-9222-42bea17911cf",
   "metadata": {},
   "source": [
    "# TIPO BOOLEANO(BOOL)"
   ]
  },
  {
   "cell_type": "code",
   "execution_count": 98,
   "id": "ad88556e-3021-472e-b104-9137ecbf05c7",
   "metadata": {},
   "outputs": [],
   "source": [
    "flag=True"
   ]
  },
  {
   "cell_type": "code",
   "execution_count": 100,
   "id": "8f840a35-9340-44b3-b8fd-b6f35de0b8cb",
   "metadata": {},
   "outputs": [
    {
     "data": {
      "text/plain": [
       "bool"
      ]
     },
     "execution_count": 100,
     "metadata": {},
     "output_type": "execute_result"
    }
   ],
   "source": [
    "type(flag)"
   ]
  },
  {
   "cell_type": "code",
   "execution_count": 102,
   "id": "695db39e-41f8-438b-86ad-e4053ddcd15f",
   "metadata": {},
   "outputs": [
    {
     "data": {
      "text/plain": [
       "True"
      ]
     },
     "execution_count": 102,
     "metadata": {},
     "output_type": "execute_result"
    }
   ],
   "source": [
    "flag"
   ]
  },
  {
   "cell_type": "code",
   "execution_count": 104,
   "id": "a141c46f-11cd-47ae-8bad-509d76faddcb",
   "metadata": {},
   "outputs": [
    {
     "data": {
      "text/plain": [
       "False"
      ]
     },
     "execution_count": 104,
     "metadata": {},
     "output_type": "execute_result"
    }
   ],
   "source": [
    "not flag"
   ]
  },
  {
   "cell_type": "code",
   "execution_count": 106,
   "id": "6635f7f9-c427-4111-9efc-9424f330d162",
   "metadata": {},
   "outputs": [],
   "source": [
    "x=flag and False"
   ]
  },
  {
   "cell_type": "code",
   "execution_count": 110,
   "id": "70b58244-751d-456e-822e-070021788b30",
   "metadata": {},
   "outputs": [
    {
     "data": {
      "text/plain": [
       "False"
      ]
     },
     "execution_count": 110,
     "metadata": {},
     "output_type": "execute_result"
    }
   ],
   "source": [
    "x"
   ]
  },
  {
   "cell_type": "markdown",
   "id": "a70b394e-c918-4fbd-a49f-0ffdb2ddcacb",
   "metadata": {},
   "source": [
    "# TIPO STRING"
   ]
  },
  {
   "cell_type": "code",
   "execution_count": 116,
   "id": "d1f9d714-e64b-430d-9830-a1452f9f97bb",
   "metadata": {},
   "outputs": [],
   "source": [
    "letra ='a'"
   ]
  },
  {
   "cell_type": "code",
   "execution_count": 118,
   "id": "bdc29438-0103-438e-b7af-614b7099cbcc",
   "metadata": {},
   "outputs": [
    {
     "data": {
      "text/plain": [
       "str"
      ]
     },
     "execution_count": 118,
     "metadata": {},
     "output_type": "execute_result"
    }
   ],
   "source": [
    "type(letra)"
   ]
  },
  {
   "cell_type": "code",
   "execution_count": 126,
   "id": "3cb13a28-2f22-44a2-a238-29234c857592",
   "metadata": {},
   "outputs": [],
   "source": [
    "frase='batatinha quando nasce, espalha rama pelo chão'"
   ]
  },
  {
   "cell_type": "code",
   "execution_count": 130,
   "id": "f3397d98-ed38-442a-afdb-cacc537ddaa1",
   "metadata": {},
   "outputs": [
    {
     "data": {
      "text/plain": [
       "'batatinha quando nasce, espalha rama pelo chão'"
      ]
     },
     "execution_count": 130,
     "metadata": {},
     "output_type": "execute_result"
    }
   ],
   "source": [
    "frase"
   ]
  },
  {
   "cell_type": "code",
   "execution_count": 132,
   "id": "6e420290-ac92-4ca8-84cb-a3394c8cd992",
   "metadata": {},
   "outputs": [
    {
     "data": {
      "text/plain": [
       "str"
      ]
     },
     "execution_count": 132,
     "metadata": {},
     "output_type": "execute_result"
    }
   ],
   "source": [
    "type(frase)"
   ]
  },
  {
   "cell_type": "code",
   "execution_count": 134,
   "id": "dbc0f859-d92b-4972-8212-6c479ec6b591",
   "metadata": {},
   "outputs": [],
   "source": [
    "palavra= \"python\""
   ]
  },
  {
   "cell_type": "code",
   "execution_count": 136,
   "id": "a16d966a-2bec-4b86-98a1-176de76a3122",
   "metadata": {},
   "outputs": [
    {
     "data": {
      "text/plain": [
       "'python'"
      ]
     },
     "execution_count": 136,
     "metadata": {},
     "output_type": "execute_result"
    }
   ],
   "source": [
    "palavra"
   ]
  },
  {
   "cell_type": "code",
   "execution_count": 138,
   "id": "208a7541-6d72-422f-bd4e-f9e095eabee5",
   "metadata": {},
   "outputs": [
    {
     "data": {
      "text/plain": [
       "str"
      ]
     },
     "execution_count": 138,
     "metadata": {},
     "output_type": "execute_result"
    }
   ],
   "source": [
    "type(palavra)"
   ]
  },
  {
   "cell_type": "code",
   "execution_count": 142,
   "id": "847ddf20-4404-4917-91bd-cd17bdad839e",
   "metadata": {},
   "outputs": [
    {
     "data": {
      "text/plain": [
       "'p'"
      ]
     },
     "execution_count": 142,
     "metadata": {},
     "output_type": "execute_result"
    }
   ],
   "source": [
    "palavra[0]"
   ]
  },
  {
   "cell_type": "code",
   "execution_count": 157,
   "id": "3904d9a3-45f9-47eb-9974-df5db62278f6",
   "metadata": {},
   "outputs": [
    {
     "data": {
      "text/plain": [
       "'PYTHON'"
      ]
     },
     "execution_count": 157,
     "metadata": {},
     "output_type": "execute_result"
    }
   ],
   "source": [
    "palavra.upper()"
   ]
  },
  {
   "cell_type": "code",
   "execution_count": null,
   "id": "9ad24446-d7f6-4a27-90ba-f96d65b939d9",
   "metadata": {},
   "outputs": [],
   "source": []
  },
  {
   "cell_type": "markdown",
   "id": "751b203d-478c-462b-a687-935d02639d49",
   "metadata": {},
   "source": [
    "# FUNÇÕES EMBUTIDAS"
   ]
  },
  {
   "cell_type": "code",
   "execution_count": 145,
   "id": "87f32148-f071-46b9-b2e1-cf063d3f8374",
   "metadata": {},
   "outputs": [
    {
     "data": {
      "text/plain": [
       "40"
      ]
     },
     "execution_count": 145,
     "metadata": {},
     "output_type": "execute_result"
    }
   ],
   "source": [
    "abs(40)"
   ]
  },
  {
   "cell_type": "code",
   "execution_count": 147,
   "id": "171215ca-d568-4ea6-a897-1094a57b948e",
   "metadata": {},
   "outputs": [
    {
     "data": {
      "text/plain": [
       "34"
      ]
     },
     "execution_count": 147,
     "metadata": {},
     "output_type": "execute_result"
    }
   ],
   "source": [
    "abs(-34)"
   ]
  },
  {
   "cell_type": "code",
   "execution_count": 151,
   "id": "e540eb63-8329-42dd-8149-02da15582774",
   "metadata": {},
   "outputs": [
    {
     "data": {
      "text/plain": [
       "'_'"
      ]
     },
     "execution_count": 151,
     "metadata": {},
     "output_type": "execute_result"
    }
   ],
   "source": [
    "chr(95)"
   ]
  },
  {
   "cell_type": "code",
   "execution_count": 155,
   "id": "e3f8ca42-4629-4979-88a2-36726264445d",
   "metadata": {},
   "outputs": [
    {
     "data": {
      "text/plain": [
       "122"
      ]
     },
     "execution_count": 155,
     "metadata": {},
     "output_type": "execute_result"
    }
   ],
   "source": [
    "ord('z')"
   ]
  },
  {
   "cell_type": "code",
   "execution_count": 159,
   "id": "ea428182-8198-4af3-941e-c38b73cb23cf",
   "metadata": {},
   "outputs": [
    {
     "name": "stdout",
     "output_type": "stream",
     "text": [
      "Help on built-in function ord in module builtins:\n",
      "\n",
      "ord(c, /)\n",
      "    Return the Unicode code point for a one-character string.\n",
      "\n"
     ]
    }
   ],
   "source": [
    "help(ord)"
   ]
  },
  {
   "cell_type": "code",
   "execution_count": null,
   "id": "b06c4d8b-dd11-426f-b24b-fec8bfc872ef",
   "metadata": {},
   "outputs": [],
   "source": [
    "#"
   ]
  }
 ],
 "metadata": {
  "kernelspec": {
   "display_name": "Python [conda env:base] *",
   "language": "python",
   "name": "conda-base-py"
  },
  "language_info": {
   "codemirror_mode": {
    "name": "ipython",
    "version": 3
   },
   "file_extension": ".py",
   "mimetype": "text/x-python",
   "name": "python",
   "nbconvert_exporter": "python",
   "pygments_lexer": "ipython3",
   "version": "3.12.7"
  }
 },
 "nbformat": 4,
 "nbformat_minor": 5
}
