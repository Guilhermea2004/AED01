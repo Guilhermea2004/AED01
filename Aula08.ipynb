{
 "cells": [
  {
   "cell_type": "code",
   "execution_count": 2,
   "id": "548d7ad3-1ffd-4301-a471-1446e85983f7",
   "metadata": {},
   "outputs": [
    {
     "name": "stdout",
     "output_type": "stream",
     "text": [
      "2\n",
      "3\n",
      "4\n"
     ]
    }
   ],
   "source": [
    "tp= (2,3,4)\n",
    "for i in tp:\n",
    "    print(i)"
   ]
  },
  {
   "cell_type": "code",
   "execution_count": 34,
   "id": "1f954664-aa73-47bb-899e-7e7645b6c439",
   "metadata": {},
   "outputs": [
    {
     "ename": "SyntaxError",
     "evalue": "invalid syntax (706535591.py, line 5)",
     "output_type": "error",
     "traceback": [
      "\u001b[1;36m  Cell \u001b[1;32mIn[34], line 5\u001b[1;36m\u001b[0m\n\u001b[1;33m    0 X 5 = 0\u001b[0m\n\u001b[1;37m      ^\u001b[0m\n\u001b[1;31mSyntaxError\u001b[0m\u001b[1;31m:\u001b[0m invalid syntax\n"
     ]
    }
   ],
   "source": [
    "# fazer uma sequencia de comandos que mostre a tabuada do 5:\n",
    "\n",
    "for i in range(11):\n",
    "    print(i,\" x 5 =\", i*5)\n",
    "0 X 5 = 0\n",
    "1 x 5 = 5\n",
    "2 x 5 = 10\n",
    "3 x 5 = 15\n",
    "4 x 5 = 20\n",
    "5 x 5 = 25\n",
    "6 x 5 = 30\n",
    "7 x 5 = 35\n",
    "8 x 5 = 40\n",
    "9 x 5 = 45\n",
    "10 x 5 = 50"
   ]
  },
  {
   "cell_type": "code",
   "execution_count": 70,
   "id": "c0499027-8ae6-4829-b211-b19ba13d1a58",
   "metadata": {},
   "outputs": [
    {
     "ename": "IndentationError",
     "evalue": "unexpected indent (2075913.py, line 6)",
     "output_type": "error",
     "traceback": [
      "\u001b[1;36m  Cell \u001b[1;32mIn[70], line 6\u001b[1;36m\u001b[0m\n\u001b[1;33m    print(\" O total de As na frase é:, qtd\")\u001b[0m\n\u001b[1;37m    ^\u001b[0m\n\u001b[1;31mIndentationError\u001b[0m\u001b[1;31m:\u001b[0m unexpected indent\n"
     ]
    }
   ],
   "source": [
    "frase = input(\"Digite uma frase: \")\n",
    "qtd=0\n",
    "for letra in frase:\n",
    "    if letra.upper() ==\"A\" :\n",
    "       qtd +=1\n",
    "        print(\" O total de As na frase é:, qtd\")"
   ]
  },
  {
   "cell_type": "code",
   "execution_count": 72,
   "id": "5a23adb9-28d0-41e0-afb5-43649e1f059c",
   "metadata": {},
   "outputs": [
    {
     "name": "stdout",
     "output_type": "stream",
     "text": [
      "Curso - 1\n",
      "Curso - 2\n",
      "Curso - 3\n",
      "Curso - 4\n",
      "Curso - 5\n",
      "Superior - 1\n",
      "Superior - 2\n",
      "Superior - 3\n",
      "Superior - 4\n",
      "Superior - 5\n",
      "Superior - 6\n",
      "Superior - 7\n",
      "Superior - 8\n",
      "de Tecnologia - 1\n",
      "de Tecnologia - 2\n",
      "de Tecnologia - 3\n",
      "de Tecnologia - 4\n",
      "de Tecnologia - 5\n",
      "de Tecnologia - 6\n",
      "de Tecnologia - 7\n",
      "de Tecnologia - 8\n",
      "de Tecnologia - 9\n",
      "de Tecnologia - 10\n",
      "de Tecnologia - 11\n",
      "de Tecnologia - 12\n",
      "de Tecnologia - 13\n",
      "em Ciência - 1\n",
      "em Ciência - 2\n",
      "em Ciência - 3\n",
      "em Ciência - 4\n",
      "em Ciência - 5\n",
      "em Ciência - 6\n",
      "em Ciência - 7\n",
      "em Ciência - 8\n",
      "em Ciência - 9\n",
      "em Ciência - 10\n",
      " de Dados - 1\n",
      " de Dados - 2\n",
      " de Dados - 3\n",
      " de Dados - 4\n",
      " de Dados - 5\n",
      " de Dados - 6\n",
      " de Dados - 7\n",
      " de Dados - 8\n",
      " de Dados - 9\n"
     ]
    }
   ],
   "source": [
    "ListaDeStrings = [ \"Curso\" , \"Superior\" , \"de Tecnologia\" , \"em Ciência\" , \" de Dados\" ]\n",
    "for palavra in ListaDeStrings:\n",
    "    qtd = 0\n",
    "    for caracter in palavra:\n",
    "        qtd += 1\n",
    "        print(palavra, \"-\", qtd)\n",
    "\n"
   ]
  },
  {
   "cell_type": "code",
   "execution_count": null,
   "id": "3e2a8a6a-409f-474b-a51a-34ad3fe4b025",
   "metadata": {},
   "outputs": [],
   "source": []
  }
 ],
 "metadata": {
  "kernelspec": {
   "display_name": "Python [conda env:base] *",
   "language": "python",
   "name": "conda-base-py"
  },
  "language_info": {
   "codemirror_mode": {
    "name": "ipython",
    "version": 3
   },
   "file_extension": ".py",
   "mimetype": "text/x-python",
   "name": "python",
   "nbconvert_exporter": "python",
   "pygments_lexer": "ipython3",
   "version": "3.12.7"
  }
 },
 "nbformat": 4,
 "nbformat_minor": 5
}
