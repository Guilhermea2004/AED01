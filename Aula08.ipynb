{
 "cells": [
  {
   "cell_type": "code",
   "execution_count": 2,
   "id": "548d7ad3-1ffd-4301-a471-1446e85983f7",
   "metadata": {},
   "outputs": [
    {
     "name": "stdout",
     "output_type": "stream",
     "text": [
      "2\n",
      "3\n",
      "4\n"
     ]
    }
   ],
   "source": [
    "tp= (2,3,4)\n",
    "for i in tp:\n",
    "    print(i)"
   ]
  },
  {
   "cell_type": "code",
   "execution_count": 1,
   "id": "1f954664-aa73-47bb-899e-7e7645b6c439",
   "metadata": {},
   "outputs": [
    {
     "name": "stdout",
     "output_type": "stream",
     "text": [
      "Tabuada do 5:\n",
      "5 x 1 = 5\n",
      "5 x 2 = 10\n",
      "5 x 3 = 15\n",
      "5 x 4 = 20\n",
      "5 x 5 = 25\n",
      "5 x 6 = 30\n",
      "5 x 7 = 35\n",
      "5 x 8 = 40\n",
      "5 x 9 = 45\n",
      "5 x 10 = 50\n"
     ]
    }
   ],
   "source": [
    "# fazer uma sequencia de comandos que mostre a tabuada do 5:\n",
    "print(\"Tabuada do 5:\")\n",
    "\n",
    "for i in range(1, 11):\n",
    "    resultado = 5 * i\n",
    "    print(f\"5 x {i} = {resultado}\")\n"
   ]
  },
  {
   "cell_type": "code",
   "execution_count": 3,
   "id": "c0499027-8ae6-4829-b211-b19ba13d1a58",
   "metadata": {},
   "outputs": [
    {
     "name": "stdin",
     "output_type": "stream",
     "text": [
      "Digite uma frase:  São Paulo\n"
     ]
    },
    {
     "name": "stdout",
     "output_type": "stream",
     "text": [
      "O total de 'A's na frase é: 1\n"
     ]
    }
   ],
   "source": [
    "frase = input(\"Digite uma frase: \")\n",
    "qtd = 0\n",
    "\n",
    "for letra in frase:\n",
    "    if letra.upper() == \"A\":\n",
    "        qtd += 1\n",
    "\n",
    "print(\"O total de 'A's na frase é:\", qtd)"
   ]
  },
  {
   "cell_type": "code",
   "execution_count": 72,
   "id": "5a23adb9-28d0-41e0-afb5-43649e1f059c",
   "metadata": {},
   "outputs": [
    {
     "name": "stdout",
     "output_type": "stream",
     "text": [
      "Curso - 1\n",
      "Curso - 2\n",
      "Curso - 3\n",
      "Curso - 4\n",
      "Curso - 5\n",
      "Superior - 1\n",
      "Superior - 2\n",
      "Superior - 3\n",
      "Superior - 4\n",
      "Superior - 5\n",
      "Superior - 6\n",
      "Superior - 7\n",
      "Superior - 8\n",
      "de Tecnologia - 1\n",
      "de Tecnologia - 2\n",
      "de Tecnologia - 3\n",
      "de Tecnologia - 4\n",
      "de Tecnologia - 5\n",
      "de Tecnologia - 6\n",
      "de Tecnologia - 7\n",
      "de Tecnologia - 8\n",
      "de Tecnologia - 9\n",
      "de Tecnologia - 10\n",
      "de Tecnologia - 11\n",
      "de Tecnologia - 12\n",
      "de Tecnologia - 13\n",
      "em Ciência - 1\n",
      "em Ciência - 2\n",
      "em Ciência - 3\n",
      "em Ciência - 4\n",
      "em Ciência - 5\n",
      "em Ciência - 6\n",
      "em Ciência - 7\n",
      "em Ciência - 8\n",
      "em Ciência - 9\n",
      "em Ciência - 10\n",
      " de Dados - 1\n",
      " de Dados - 2\n",
      " de Dados - 3\n",
      " de Dados - 4\n",
      " de Dados - 5\n",
      " de Dados - 6\n",
      " de Dados - 7\n",
      " de Dados - 8\n",
      " de Dados - 9\n"
     ]
    }
   ],
   "source": [
    "ListaDeStrings = [ \"Curso\" , \"Superior\" , \"de Tecnologia\" , \"em Ciência\" , \" de Dados\" ]\n",
    "for palavra in ListaDeStrings:\n",
    "    qtd = 0\n",
    "    for caracter in palavra:\n",
    "        qtd += 1\n",
    "        print(palavra, \"-\", qtd)\n",
    "\n"
   ]
  },
  {
   "cell_type": "code",
   "execution_count": null,
   "id": "3e2a8a6a-409f-474b-a51a-34ad3fe4b025",
   "metadata": {},
   "outputs": [],
   "source": []
  }
 ],
 "metadata": {
  "kernelspec": {
   "display_name": "Python [conda env:base] *",
   "language": "python",
   "name": "conda-base-py"
  },
  "language_info": {
   "codemirror_mode": {
    "name": "ipython",
    "version": 3
   },
   "file_extension": ".py",
   "mimetype": "text/x-python",
   "name": "python",
   "nbconvert_exporter": "python",
   "pygments_lexer": "ipython3",
   "version": "3.12.7"
  }
 },
 "nbformat": 4,
 "nbformat_minor": 5
}
