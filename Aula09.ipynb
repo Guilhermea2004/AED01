{
 "cells": [
  {
   "cell_type": "code",
   "execution_count": null,
   "metadata": {},
   "outputs": [],
   "source": [
    "# Versão da Linguagem Python\n",
    "from platform import python_version\n",
    "print('Versão da Linguagem Python Usada Neste Jupyter Notebook:', python_version())"
   ]
  },
  {
   "cell_type": "markdown",
   "metadata": {},
   "source": [
    "## Estrutura sequencial"
   ]
  },
  {
   "cell_type": "markdown",
   "metadata": {},
   "source": [
    "Escreva um programa em Python que solicite ao usuário o valor de dois números, calcule e exiba a soma deles."
   ]
  },
  {
   "cell_type": "code",
   "execution_count": 2,
   "metadata": {},
   "outputs": [
    {
     "name": "stdin",
     "output_type": "stream",
     "text": [
      "Digite o primeiro número:  9\n",
      "Digite o segundo número:  7\n"
     ]
    },
    {
     "name": "stdout",
     "output_type": "stream",
     "text": [
      "A soma dos números é: 16.0\n"
     ]
    }
   ],
   "source": [
    "num1 = float(input(\"Digite o primeiro número: \"))\n",
    "num2 = float(input(\"Digite o segundo número: \"))\n",
    "\n",
    "soma = num1 + num2\n",
    "\n",
    "print(f\"A soma dos números é: {soma}\")\n"
   ]
  },
  {
   "attachments": {},
   "cell_type": "markdown",
   "metadata": {},
   "source": [
    "Escreva um programa em Python que solicite ao usuário a temperatura em graus Celsius e converta para Fahrenheit. A fórmula para conversão é F = C * 9/5 + 32.\n"
   ]
  },
  {
   "cell_type": "code",
   "execution_count": 4,
   "metadata": {},
   "outputs": [
    {
     "name": "stdin",
     "output_type": "stream",
     "text": [
      "Digite a temperatura em graus Celsius:  32\n"
     ]
    },
    {
     "name": "stdout",
     "output_type": "stream",
     "text": [
      "A temperatura em Fahrenheit é: 89.60 °F\n"
     ]
    }
   ],
   "source": [
    "celsius = float(input(\"Digite a temperatura em graus Celsius: \"))\n",
    "\n",
    "fahrenheit = celsius * 9 / 5 + 32\n",
    "\n",
    "print(f\"A temperatura em Fahrenheit é: {fahrenheit:.2f} °F\")\n"
   ]
  },
  {
   "cell_type": "markdown",
   "metadata": {},
   "source": [
    "## Estrutura Condicional"
   ]
  },
  {
   "cell_type": "markdown",
   "metadata": {},
   "source": [
    "Escreva um programa em Python que solicite ao usuário um número e verifique se ele é positivo, negativo ou zero. Exiba a mensagem correspondente.\n"
   ]
  },
  {
   "cell_type": "code",
   "execution_count": 6,
   "metadata": {},
   "outputs": [
    {
     "name": "stdin",
     "output_type": "stream",
     "text": [
      "Digite um número:  10\n"
     ]
    },
    {
     "name": "stdout",
     "output_type": "stream",
     "text": [
      "O número é positivo.\n"
     ]
    }
   ],
   "source": [
    "num = float(input(\"Digite um número: \"))\n",
    "\n",
    "if num > 0:\n",
    "    print(\"O número é positivo.\")\n",
    "elif num < 0:\n",
    "    print(\"O número é negativo.\")\n",
    "else:\n",
    "    print(\"O número é zero.\")"
   ]
  },
  {
   "cell_type": "markdown",
   "metadata": {},
   "source": [
    "Escreva um programa em Python que solicite ao usuário três números e determine qual é o maior entre eles.\n"
   ]
  },
  {
   "cell_type": "code",
   "execution_count": 8,
   "metadata": {},
   "outputs": [
    {
     "name": "stdin",
     "output_type": "stream",
     "text": [
      "Digite o primeiro número:  55\n",
      "Digite o segundo número:  44\n",
      "Digite o terceiro número:  33\n"
     ]
    },
    {
     "name": "stdout",
     "output_type": "stream",
     "text": [
      "O maior número é: 55.0\n"
     ]
    }
   ],
   "source": [
    "num1 = float(input(\"Digite o primeiro número: \"))\n",
    "num2 = float(input(\"Digite o segundo número: \"))\n",
    "num3 = float(input(\"Digite o terceiro número: \"))\n",
    "\n",
    "maior = num1\n",
    "\n",
    "if num2 > maior:\n",
    "    maior = num2\n",
    "if num3 > maior:\n",
    "    maior = num3\n",
    "\n",
    "print(f\"O maior número é: {maior}\")"
   ]
  },
  {
   "cell_type": "markdown",
   "metadata": {},
   "source": [
    "## Estrutura de Repetição"
   ]
  },
  {
   "cell_type": "markdown",
   "metadata": {},
   "source": [
    "Escreva um programa em Python que exiba todos os números de 1 a 10.\n"
   ]
  },
  {
   "cell_type": "code",
   "execution_count": 10,
   "metadata": {},
   "outputs": [
    {
     "name": "stdout",
     "output_type": "stream",
     "text": [
      "1\n",
      "2\n",
      "3\n",
      "4\n",
      "5\n",
      "6\n",
      "7\n",
      "8\n",
      "9\n",
      "10\n"
     ]
    }
   ],
   "source": [
    "for i in range(1, 11):\n",
    "    print(i)"
   ]
  },
  {
   "cell_type": "markdown",
   "metadata": {},
   "source": [
    "Escreva um programa em Python que solicite ao usuário um número inteiro positivo e calcule o fatorial desse número.\n"
   ]
  },
  {
   "cell_type": "code",
   "execution_count": 14,
   "metadata": {},
   "outputs": [
    {
     "name": "stdin",
     "output_type": "stream",
     "text": [
      "Digite um número inteiro positivo:  15\n"
     ]
    },
    {
     "name": "stdout",
     "output_type": "stream",
     "text": [
      "O fatorial de 15 é 1307674368000\n"
     ]
    }
   ],
   "source": [
    "x = int(input(\"Digite um número inteiro positivo: \"))\n",
    "\n",
    "if x < 0:\n",
    "    print(\"Número inválido! Digite um número inteiro positivo.\")\n",
    "else:\n",
    "    fatorial = 1\n",
    "    for i in range(1, x + 1):\n",
    "        fatorial *= i\n",
    "    print(f\"O fatorial de {x} é {fatorial}\")"
   ]
  },
  {
   "cell_type": "markdown",
   "metadata": {},
   "source": [
    "## Geral"
   ]
  },
  {
   "cell_type": "markdown",
   "metadata": {},
   "source": [
    "Você é um cientista de dados e precisa analisar as notas de um conjunto de estudantes em uma disciplina. Você deverá escrever um programa em Python que solicite ao usuário o número de estudantes e, em seguida, as notas desses estudantes. O programa deve calcular e exibir:\n",
    "\n",
    "- A média das notas.\n",
    "- A maior e a menor nota.\n",
    "- O número de estudantes aprovados (nota maior ou igual a 6) e reprovados (nota menor que 6).\n",
    "\n",
    "Regras:\n",
    "\n",
    "- Utilize variáveis simples para armazenar as informações.\n",
    "- Utilize estruturas de repetição para coletar as notas dos estudantes.\n",
    "- Utilize estruturas condicionais para determinar o status de aprovação dos estudantes."
   ]
  },
  {
   "cell_type": "code",
   "execution_count": 18,
   "metadata": {},
   "outputs": [
    {
     "name": "stdin",
     "output_type": "stream",
     "text": [
      "Digite o número de estudantes:  15\n",
      "Digite a nota do estudante 1:  10\n",
      "Digite a nota do estudante 2:  9\n",
      "Digite a nota do estudante 3:  8\n",
      "Digite a nota do estudante 4:  7\n",
      "Digite a nota do estudante 5:  6\n",
      "Digite a nota do estudante 6:  7\n",
      "Digite a nota do estudante 7:  7\n",
      "Digite a nota do estudante 8:  8\n",
      "Digite a nota do estudante 9:  8\n",
      "Digite a nota do estudante 10:  8\n",
      "Digite a nota do estudante 11:  9\n",
      "Digite a nota do estudante 12:  9\n",
      "Digite a nota do estudante 13:  4\n",
      "Digite a nota do estudante 14:  4\n",
      "Digite a nota do estudante 15:  3\n"
     ]
    },
    {
     "name": "stdout",
     "output_type": "stream",
     "text": [
      "\n",
      "--- RESULTADOS ---\n",
      "Média das notas: 7.13\n",
      "Maior nota: 10.0\n",
      "Menor nota: 3.0\n",
      "Número de aprovados: 12\n",
      "Número de reprovados: 3\n"
     ]
    }
   ],
   "source": [
    "num_estudantes = int(input(\"Digite o número de estudantes: \"))\n",
    "\n",
    "soma_notas = 0\n",
    "maior_nota = 0\n",
    "menor_nota = 10  # considerando notas de 0 a 10\n",
    "aprovados = 0\n",
    "reprovados = 0\n",
    "\n",
    "for i in range(1, num_estudantes + 1):\n",
    "    nota = float(input(f\"Digite a nota do estudante {i}: \"))\n",
    "    \n",
    "    soma_notas += nota\n",
    "    \n",
    "    if nota > maior_nota:\n",
    "        maior_nota = nota\n",
    "        \n",
    "    if nota < menor_nota:\n",
    "        menor_nota = nota\n",
    "        \n",
    "    if nota >= 6:\n",
    "        aprovados += 1\n",
    "    else:\n",
    "        reprovados += 1\n",
    "\n",
    "media = soma_notas / num_estudantes\n",
    "\n",
    "print(\"\\n--- RESULTADOS ---\")\n",
    "print(f\"Média das notas: {media:.2f}\")\n",
    "print(f\"Maior nota: {maior_nota}\")\n",
    "print(f\"Menor nota: {menor_nota}\")\n",
    "print(f\"Número de aprovados: {aprovados}\")\n",
    "print(f\"Número de reprovados: {reprovados}\")"
   ]
  },
  {
   "cell_type": "markdown",
   "metadata": {},
   "source": [
    "Faça um programa que receba um número inteiro positivo e transforme esse número para binário."
   ]
  },
  {
   "cell_type": "code",
   "execution_count": 20,
   "metadata": {},
   "outputs": [
    {
     "name": "stdin",
     "output_type": "stream",
     "text": [
      "Digite um número inteiro positivo:  7\n"
     ]
    },
    {
     "name": "stdout",
     "output_type": "stream",
     "text": [
      "A representação binária é: 111\n"
     ]
    }
   ],
   "source": [
    "num = int(input(\"Digite um número inteiro positivo: \"))\n",
    "\n",
    "if num < 0:\n",
    "    print(\"Número inválido! Digite um número inteiro positivo.\")\n",
    "else:\n",
    "    binario = \"\"\n",
    "    if num == 0:\n",
    "        binario = \"0\"\n",
    "    else:\n",
    "        while num > 0:\n",
    "            binario = str(num % 2) + binario\n",
    "            num = num // 2\n",
    "    print(f\"A representação binária é: {binario}\")"
   ]
  },
  {
   "cell_type": "markdown",
   "metadata": {},
   "source": [
    "## Fim da Aula 9"
   ]
  }
 ],
 "metadata": {
  "kernelspec": {
   "display_name": "Python [conda env:base] *",
   "language": "python",
   "name": "conda-base-py"
  },
  "language_info": {
   "codemirror_mode": {
    "name": "ipython",
    "version": 3
   },
   "file_extension": ".py",
   "mimetype": "text/x-python",
   "name": "python",
   "nbconvert_exporter": "python",
   "pygments_lexer": "ipython3",
   "version": "3.12.7"
  }
 },
 "nbformat": 4,
 "nbformat_minor": 4
}
