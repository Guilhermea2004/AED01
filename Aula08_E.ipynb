{
 "cells": [
  {
   "cell_type": "code",
   "execution_count": 4,
   "metadata": {},
   "outputs": [
    {
     "name": "stdout",
     "output_type": "stream",
     "text": [
      "3\n",
      "4\n",
      "5\n"
     ]
    }
   ],
   "source": [
    "# Criando uma tupla e imprimindo cada um dos valores\n",
    "tp = (3,4,5)\n",
    "for i in tp:\n",
    "    print(i)"
   ]
  },
  {
   "cell_type": "code",
   "execution_count": 6,
   "metadata": {},
   "outputs": [
    {
     "name": "stdout",
     "output_type": "stream",
     "text": [
      "Curso\n",
      "Superior\n",
      "de Tecnologia\n",
      "em Ciência\n",
      "de Dados\n"
     ]
    }
   ],
   "source": [
    "# Criando uma lista e imprimindo cada um dos valores\n",
    "ListaDeStrings = [\"Curso\", \"Superior\", \"de Tecnologia\", \"em Ciência\", \"de Dados\"]\n",
    "for i in ListaDeStrings:\n",
    "    print(i)"
   ]
  },
  {
   "cell_type": "code",
   "execution_count": 8,
   "metadata": {},
   "outputs": [
    {
     "name": "stdout",
     "output_type": "stream",
     "text": [
      "0\n",
      "1\n",
      "2\n",
      "3\n",
      "4\n"
     ]
    }
   ],
   "source": [
    "# Imprimindo os valores no intervalo entre 0 e 5 (exclusive)\n",
    "for contador in range(0,5):\n",
    "    print(contador)"
   ]
  },
  {
   "cell_type": "code",
   "execution_count": 10,
   "metadata": {},
   "outputs": [
    {
     "name": "stdout",
     "output_type": "stream",
     "text": [
      "2\n",
      "4\n",
      "6\n",
      "8\n",
      "10\n"
     ]
    }
   ],
   "source": [
    "# Imprimindo os números pares da lista de números\n",
    "lista = [1,2,3,4,5,6,7,8,9,10]\n",
    "for num in lista:\n",
    "    if num % 2 == 0:\n",
    "        print (num)"
   ]
  },
  {
   "cell_type": "code",
   "execution_count": 12,
   "metadata": {},
   "outputs": [
    {
     "name": "stdout",
     "output_type": "stream",
     "text": [
      "0\n",
      "2\n",
      "4\n",
      "6\n",
      "8\n",
      "10\n",
      "12\n",
      "14\n",
      "16\n",
      "18\n",
      "20\n",
      "22\n",
      "24\n",
      "26\n",
      "28\n",
      "30\n",
      "32\n",
      "34\n",
      "36\n",
      "38\n",
      "40\n",
      "42\n",
      "44\n",
      "46\n",
      "48\n",
      "50\n",
      "52\n",
      "54\n",
      "56\n",
      "58\n",
      "60\n",
      "62\n",
      "64\n",
      "66\n",
      "68\n",
      "70\n",
      "72\n",
      "74\n",
      "76\n",
      "78\n",
      "80\n",
      "82\n",
      "84\n",
      "86\n",
      "88\n",
      "90\n",
      "92\n",
      "94\n",
      "96\n",
      "98\n",
      "100\n"
     ]
    }
   ],
   "source": [
    "# Listando os números no intervalo entre 0 e 101, com incremento em 2\n",
    "for i in range(0,101,2):  \n",
    "    print(i)"
   ]
  },
  {
   "cell_type": "code",
   "execution_count": 14,
   "metadata": {},
   "outputs": [
    {
     "name": "stdout",
     "output_type": "stream",
     "text": [
      "E\n",
      "u\n",
      " \n",
      "v\n",
      "o\n",
      "u\n",
      " \n",
      "d\n",
      "o\n",
      "m\n",
      "i\n",
      "n\n",
      "a\n",
      "r\n",
      " \n",
      "P\n",
      "y\n",
      "t\n",
      "h\n",
      "o\n",
      "n\n",
      "!\n",
      " \n",
      "E\n",
      " \n",
      "s\n",
      "a\n",
      "b\n",
      "e\n",
      "r\n",
      " \n",
      "t\n",
      "u\n",
      "d\n",
      "o\n",
      " \n",
      "s\n",
      "o\n",
      "b\n",
      "r\n",
      "e\n",
      " \n",
      "C\n",
      "i\n",
      "ê\n",
      "n\n",
      "c\n",
      "i\n",
      "a\n",
      " \n",
      "d\n",
      "e\n",
      " \n",
      "D\n",
      "a\n",
      "d\n",
      "o\n",
      "s\n"
     ]
    }
   ],
   "source": [
    "# Strings também são sequências\n",
    "for caracter in 'Eu vou dominar Python! E saber tudo sobre Ciência de Dados':\n",
    "    print (caracter)"
   ]
  },
  {
   "cell_type": "markdown",
   "metadata": {},
   "source": [
    "## Loop For Aninhado"
   ]
  },
  {
   "cell_type": "code",
   "execution_count": 17,
   "metadata": {},
   "outputs": [
    {
     "name": "stdout",
     "output_type": "stream",
     "text": [
      "\n",
      " 0\n",
      "\n",
      " 0\n",
      "\n",
      " 0\n",
      "----\n",
      "\n",
      " 1\n",
      "\n",
      " 2\n",
      "\n",
      " 3\n",
      "----\n",
      "\n",
      " 2\n",
      "\n",
      " 4\n",
      "\n",
      " 6\n",
      "----\n",
      "\n",
      " 3\n",
      "\n",
      " 6\n",
      "\n",
      " 9\n",
      "----\n",
      "\n",
      " 4\n",
      "\n",
      " 8\n",
      "\n",
      " 12\n",
      "----\n"
     ]
    }
   ],
   "source": [
    "# Loops aninhados\n",
    "\n",
    "lista1 = [0,1,2,3,4]\n",
    "lista2 = [1,2,3]\n",
    "\n",
    "# Loop externo\n",
    "for elemento_lista1 in lista1:\n",
    "    \n",
    "    # Loop interno\n",
    "    for elemento_lista2 in lista2:\n",
    "        \n",
    "        print('\\n', elemento_lista1 * elemento_lista2)\n",
    "        \n",
    "    print('----')"
   ]
  },
  {
   "cell_type": "code",
   "execution_count": 19,
   "metadata": {},
   "outputs": [
    {
     "name": "stdout",
     "output_type": "stream",
     "text": [
      "O número 47 foi encontrado nas duas listas!\n"
     ]
    }
   ],
   "source": [
    "# O número 47 aparece nas duas listas?\n",
    "\n",
    "lista1 = [10,16,24,39,47]\n",
    "lista2 = [32,89,47,76,12]\n",
    "\n",
    "# Loop externo\n",
    "for elemento_lista1 in lista1:\n",
    "    \n",
    "    # Loop interno\n",
    "    for elemento_lista2 in lista2:\n",
    "        \n",
    "        # Condicional\n",
    "        if elemento_lista1 == 47 and elemento_lista2 == 47:\n",
    "            \n",
    "            print(\"O número 47 foi encontrado nas duas listas!\")"
   ]
  },
  {
   "cell_type": "code",
   "execution_count": 21,
   "metadata": {},
   "outputs": [
    {
     "name": "stdout",
     "output_type": "stream",
     "text": [
      "O soma dos números pares das duas listas é igual a 170\n"
     ]
    }
   ],
   "source": [
    "# Some os números pares da primeira lista com os números pares da segunda lista\n",
    "\n",
    "lista1 = [10,16,24,39,47]\n",
    "lista2 = [32,89,47,76,12]\n",
    "soma = 0\n",
    "\n",
    "# Loop externo\n",
    "for lista in [lista1, lista2]:\n",
    "    \n",
    "    # Loop interno\n",
    "    for num in lista:\n",
    "        \n",
    "        # Condicional\n",
    "        if num % 2 == 0:\n",
    "            soma += num\n",
    "            \n",
    "print(\"O soma dos números pares das duas listas é igual a\", soma)"
   ]
  },
  {
   "cell_type": "code",
   "execution_count": 23,
   "metadata": {},
   "outputs": [
    {
     "data": {
      "text/plain": [
       "[10, 16, 24, 39, 47, 32, 89, 47, 76, 12]"
      ]
     },
     "execution_count": 23,
     "metadata": {},
     "output_type": "execute_result"
    }
   ],
   "source": [
    "# Listas podem ser concatenadas em Python\n",
    "lista1 + lista2"
   ]
  },
  {
   "cell_type": "code",
   "execution_count": 25,
   "metadata": {},
   "outputs": [
    {
     "name": "stdout",
     "output_type": "stream",
     "text": [
      "Soma dos valores pares: 170\n"
     ]
    }
   ],
   "source": [
    "# Some os números pares da primeira lista com os números pares da segunda lista\n",
    "\n",
    "lista1 = [10,16,24,39,47]\n",
    "lista2 = [32,89,47,76,12]\n",
    "soma = 0\n",
    "\n",
    "for num in lista1 + lista2:\n",
    "    if num % 2 == 0:\n",
    "        soma += num\n",
    "\n",
    "print(\"Soma dos valores pares:\", soma)"
   ]
  },
  {
   "cell_type": "code",
   "execution_count": 31,
   "metadata": {},
   "outputs": [
    {
     "name": "stdout",
     "output_type": "stream",
     "text": [
      "Maior número: 212\n"
     ]
    }
   ],
   "source": [
    "# Loop em lista de listas (matrizes) para encontrar o maior número\n",
    "\n",
    "matriz = [[42, 13, 74], [100, 212, 113], [10.1, 98.7, 12.3]]\n",
    "maior_numero = 0\n",
    "\n",
    "# Loop externo\n",
    "for linha in matriz:\n",
    "    \n",
    "    # Loop interno\n",
    "    for num in linha:\n",
    "        \n",
    "        # Condicional\n",
    "        if num > maior_numero:\n",
    "            maior_numero = num\n",
    "\n",
    "print(\"Maior número:\", maior_numero)"
   ]
  },
  {
   "cell_type": "code",
   "execution_count": 33,
   "metadata": {},
   "outputs": [
    {
     "name": "stdout",
     "output_type": "stream",
     "text": [
      "k1\n",
      "k2\n",
      "k3\n"
     ]
    }
   ],
   "source": [
    "# Listando as chaves de um dicionário\n",
    "dict = {'k1':'Python','k2':'R','k3':'Scala'}\n",
    "for item in dict:\n",
    "    print(item)"
   ]
  },
  {
   "cell_type": "code",
   "execution_count": 35,
   "metadata": {},
   "outputs": [
    {
     "name": "stdout",
     "output_type": "stream",
     "text": [
      "k1 Python\n",
      "k2 R\n",
      "k3 Scala\n"
     ]
    }
   ],
   "source": [
    "# Imprimindo chave e valor do dicionário. Usando o método items() para retornar os itens de um dicionário\n",
    "for k,v in dict.items():\n",
    "    print (k,v)"
   ]
  },
  {
   "cell_type": "markdown",
   "metadata": {},
   "source": [
    "## Loop While"
   ]
  },
  {
   "cell_type": "code",
   "execution_count": 37,
   "metadata": {},
   "outputs": [
    {
     "name": "stdout",
     "output_type": "stream",
     "text": [
      "0\n",
      "1\n",
      "2\n",
      "3\n",
      "4\n",
      "5\n",
      "6\n",
      "7\n",
      "8\n",
      "9\n",
      "10\n"
     ]
    }
   ],
   "source": [
    "# Usando o loop while para imprimir os valores de 0 a 9\n",
    "# A condição tem que deixar de ser verdadeira dentro do loop, senão pode travar o navegador ou mesmo o computador\n",
    "valor = 0\n",
    "while valor < 11:\n",
    "    print(valor)\n",
    "    valor = valor + 1"
   ]
  },
  {
   "cell_type": "code",
   "execution_count": 39,
   "metadata": {},
   "outputs": [],
   "source": [
    "# Entra no loop somente se a condição for verdadeira\n",
    "valor = 11\n",
    "while valor < 10:\n",
    "    print(v)\n",
    "    valor = valor + 1"
   ]
  },
  {
   "cell_type": "code",
   "execution_count": 41,
   "metadata": {},
   "outputs": [
    {
     "name": "stdout",
     "output_type": "stream",
     "text": [
      "O valor de x nesta iteração é:  0\n",
      " x ainda é menor que 10, somando 1 a x\n",
      "O valor de x nesta iteração é:  1\n",
      " x ainda é menor que 10, somando 1 a x\n",
      "O valor de x nesta iteração é:  2\n",
      " x ainda é menor que 10, somando 1 a x\n",
      "O valor de x nesta iteração é:  3\n",
      " x ainda é menor que 10, somando 1 a x\n",
      "O valor de x nesta iteração é:  4\n",
      " x ainda é menor que 10, somando 1 a x\n",
      "O valor de x nesta iteração é:  5\n",
      " x ainda é menor que 10, somando 1 a x\n",
      "O valor de x nesta iteração é:  6\n",
      " x ainda é menor que 10, somando 1 a x\n",
      "O valor de x nesta iteração é:  7\n",
      " x ainda é menor que 10, somando 1 a x\n",
      "O valor de x nesta iteração é:  8\n",
      " x ainda é menor que 10, somando 1 a x\n",
      "O valor de x nesta iteração é:  9\n",
      " x ainda é menor que 10, somando 1 a x\n",
      "Loop concluído!\n",
      "10\n"
     ]
    }
   ],
   "source": [
    "# Também é possível usar a claúsula else para encerrar o loop while\n",
    "x = 0\n",
    "\n",
    "while x < 10:\n",
    "    print ('O valor de x nesta iteração é: ', x)\n",
    "    print (' x ainda é menor que 10, somando 1 a x')\n",
    "    x += 1 \n",
    "else:\n",
    "    print ('Loop concluído!')\n",
    "print(x)"
   ]
  },
  {
   "cell_type": "markdown",
   "metadata": {},
   "source": [
    "### Pass, Break, Continue"
   ]
  },
  {
   "cell_type": "code",
   "execution_count": null,
   "metadata": {},
   "outputs": [],
   "source": [
    "n=0\n",
    "while True:\n",
    "    print(\"O ultimo valor de n é \", n)\n",
    "    n = n + 1\n",
    "    if n>5:\n",
    "        break"
   ]
  },
  {
   "cell_type": "code",
   "execution_count": null,
   "metadata": {},
   "outputs": [],
   "source": [
    "# Se encontramos o número 4 interrompemos o loop\n",
    "valor = 0\n",
    "while valor < 10:\n",
    "    if valor == 4:\n",
    "        break\n",
    "    else:\n",
    "        pass\n",
    "    print(valor)\n",
    "    valor = valor + 1"
   ]
  },
  {
   "attachments": {},
   "cell_type": "markdown",
   "metadata": {},
   "source": [
    "Diferentemente do comando “break” que faz com que o fluxo de execução do loop seja interrompido, o comando “continue” desvia o fluxo de execução para o topo do comando (seja while ou for)\r\n"
   ]
  },
  {
   "cell_type": "code",
   "execution_count": null,
   "metadata": {},
   "outputs": [],
   "source": [
    "n=0\n",
    "while True:\n",
    "    if (n%2)==0:\n",
    "        n = n + 1\n",
    "        continue\n",
    "    print(\"O ultimo valor de n é \", n)\n",
    "    n = n + 1\n",
    "    if n>9:\n",
    "        break"
   ]
  },
  {
   "cell_type": "code",
   "execution_count": null,
   "metadata": {},
   "outputs": [],
   "source": [
    "# Desconsideramos a letra z ao imprimir os caracteres da frase\n",
    "for letra in \"Python é zzz incrível!\":\n",
    "    if letra == \"z\":\n",
    "        continue\n",
    "    print(letra)"
   ]
  },
  {
   "cell_type": "code",
   "execution_count": null,
   "metadata": {},
   "outputs": [],
   "source": [
    "%%time\n",
    "\n",
    "# Encontrando números primos entre 2 e 30 usando loop for e while\n",
    "\n",
    "# Variável para armazenar números primos\n",
    "primos = []\n",
    "\n",
    "# Loop for para percorrer números de 2 a 30\n",
    "for num in range(2, 31):\n",
    "    \n",
    "    # Variável de controle\n",
    "    eh_primo = True\n",
    "    \n",
    "    # Loop while para verificar se o número é primo\n",
    "    i = 2\n",
    "    while i <= num // 2:\n",
    "        if num % i == 0:\n",
    "            eh_primo = False\n",
    "            break\n",
    "        i += 1\n",
    "    \n",
    "    # Adicionando o número primo na lista\n",
    "    if eh_primo:\n",
    "        primos.append(num)\n",
    "\n",
    "# Imprimindo a lista de números primos\n",
    "print(primos)"
   ]
  },
  {
   "cell_type": "code",
   "execution_count": null,
   "metadata": {},
   "outputs": [],
   "source": [
    "\n",
    "\n",
    "# Encontrando números primos entre 2 e 30 usando loop for e while (outro exemplo)\n",
    "\n",
    "# Loop for para percorrer números de 2 a 30\n",
    "for i in range(2,31):\n",
    "    \n",
    "    # Variável de controle\n",
    "    j = 2\n",
    "    \n",
    "    # Contador\n",
    "    valor = 0\n",
    "    \n",
    "    # Loop while para verificar se o número é primo\n",
    "    while j < i:\n",
    "        if i % j == 0:\n",
    "            valor = 1\n",
    "            j = j + 1\n",
    "        else:\n",
    "            j = j + 1\n",
    "    \n",
    "    if valor == 0:\n",
    "        print(str(i) + \" é um número primo\")\n",
    "        valor = 0\n",
    "    else:\n",
    "        valor = 0"
   ]
  },
  {
   "cell_type": "markdown",
   "metadata": {},
   "source": [
    "## Função Range"
   ]
  },
  {
   "cell_type": "code",
   "execution_count": null,
   "metadata": {},
   "outputs": [],
   "source": [
    "# Imprimindo números de 1 a10\n",
    "for i in range(1, 12):\n",
    "    print(i)"
   ]
  },
  {
   "cell_type": "code",
   "execution_count": null,
   "metadata": {},
   "outputs": [],
   "source": [
    "# Imprimindo números pares entre 50 e 101\n",
    "for i in range(50, 101, 2):\n",
    "    print(i)"
   ]
  },
  {
   "cell_type": "code",
   "execution_count": null,
   "metadata": {},
   "outputs": [],
   "source": [
    "# Imprimindo os números pares negativos entre 0 e -20\n",
    "for i in range(0, -20, -2):\n",
    "    print(i)"
   ]
  },
  {
   "cell_type": "code",
   "execution_count": null,
   "metadata": {},
   "outputs": [],
   "source": [
    "# Usando o tamanho de uma lista na função range()\n",
    "lista = ['Abacaxi', 'Banana', 'Morango', 'Uva']\n",
    "lista_tamanho = len(lista)\n",
    "for i in range(0, lista_tamanho):\n",
    "    print(lista[i])"
   ]
  },
  {
   "cell_type": "markdown",
   "metadata": {},
   "source": [
    "## Exercícios"
   ]
  },
  {
   "cell_type": "markdown",
   "metadata": {},
   "source": [
    "1. Faça um algoritmo que leia um valor N inteiro e positivo, calcule e mostre o valor E, conforme a fórmula a seguir.\n",
    "\n",
    "    E = (2 ** 1) + (2 ** 2) + (2 ** 3) + ... + (2 ** N)\n",
    "\n",
    "Resolva com for e depois while."
   ]
  },
  {
   "cell_type": "code",
   "execution_count": 2,
   "metadata": {},
   "outputs": [
    {
     "name": "stdin",
     "output_type": "stream",
     "text": [
      "Digite um número inteiro e positivo:  5\n"
     ]
    },
    {
     "name": "stdout",
     "output_type": "stream",
     "text": [
      "O valor de E é: 62\n"
     ]
    }
   ],
   "source": [
    "N = int(input(\"Digite um número inteiro e positivo: \"))\n",
    "\n",
    "if N <= 0:\n",
    "    print(\"Valor inválido! Digite um número positivo.\")\n",
    "else:\n",
    "    E = 0\n",
    "    for i in range(1, N + 1):\n",
    "        E += 2 ** i\n",
    "    print(f\"O valor de E é: {E}\")"
   ]
  },
  {
   "cell_type": "code",
   "execution_count": 4,
   "metadata": {},
   "outputs": [
    {
     "name": "stdin",
     "output_type": "stream",
     "text": [
      "Digite um número inteiro e positivo:  5\n"
     ]
    },
    {
     "name": "stdout",
     "output_type": "stream",
     "text": [
      "O valor de E é: 62\n"
     ]
    }
   ],
   "source": [
    "N = int(input(\"Digite um número inteiro e positivo: \"))\n",
    "\n",
    "if N <= 0:\n",
    "    print(\"Valor inválido! Digite um número positivo.\")\n",
    "else:\n",
    "    E = 0\n",
    "    i = 1\n",
    "    while i <= N:\n",
    "        E += 2 ** i\n",
    "        i += 1\n",
    "    print(f\"O valor de E é: {E}\")"
   ]
  },
  {
   "cell_type": "markdown",
   "metadata": {},
   "source": [
    "2. Faça um algoritmo que leia o valor do peso e da altura de 5 pessoas. Ao final, o algoritmo deve mostrar:\n",
    "- O peso médio\n",
    "- A altura média\n",
    "- O maior e o menor IMC\n",
    "\n",
    "Obs: IMC (Índice de Massa Corporal) – calculado a partir da fórmula:    `IMC = massa / (altura * altura)`\n"
   ]
  },
  {
   "cell_type": "code",
   "execution_count": 6,
   "metadata": {},
   "outputs": [
    {
     "name": "stdout",
     "output_type": "stream",
     "text": [
      "\n",
      "Pessoa 1\n"
     ]
    },
    {
     "name": "stdin",
     "output_type": "stream",
     "text": [
      "Digite o peso (em kg):  60\n",
      "Digite a altura (em metros):  1.65\n"
     ]
    },
    {
     "name": "stdout",
     "output_type": "stream",
     "text": [
      "IMC da pessoa 1: 22.04\n",
      "\n",
      "Pessoa 2\n"
     ]
    },
    {
     "name": "stdin",
     "output_type": "stream",
     "text": [
      "Digite o peso (em kg):  55\n",
      "Digite a altura (em metros):  1.88\n"
     ]
    },
    {
     "name": "stdout",
     "output_type": "stream",
     "text": [
      "IMC da pessoa 2: 15.56\n",
      "\n",
      "Pessoa 3\n"
     ]
    },
    {
     "name": "stdin",
     "output_type": "stream",
     "text": [
      "Digite o peso (em kg):  69\n",
      "Digite a altura (em metros):  1.89\n"
     ]
    },
    {
     "name": "stdout",
     "output_type": "stream",
     "text": [
      "IMC da pessoa 3: 19.32\n",
      "\n",
      "Pessoa 4\n"
     ]
    },
    {
     "name": "stdin",
     "output_type": "stream",
     "text": [
      "Digite o peso (em kg):  55\n",
      "Digite a altura (em metros):  1.88\n"
     ]
    },
    {
     "name": "stdout",
     "output_type": "stream",
     "text": [
      "IMC da pessoa 4: 15.56\n",
      "\n",
      "Pessoa 5\n"
     ]
    },
    {
     "name": "stdin",
     "output_type": "stream",
     "text": [
      "Digite o peso (em kg):  89\n",
      "Digite a altura (em metros):  2.00\n"
     ]
    },
    {
     "name": "stdout",
     "output_type": "stream",
     "text": [
      "IMC da pessoa 5: 22.25\n",
      "\n",
      "--- RESULTADOS ---\n",
      "Peso médio: 65.60 kg\n",
      "Altura média: 1.86 m\n",
      "Maior IMC: 22.25\n",
      "Menor IMC: 15.56\n"
     ]
    }
   ],
   "source": [
    "# Inicializa variáveis\n",
    "soma_pesos = 0\n",
    "soma_alturas = 0\n",
    "maior_imc = 0\n",
    "menor_imc = 0\n",
    "\n",
    "for i in range(1, 6):\n",
    "    print(f\"\\nPessoa {i}\")\n",
    "    peso = float(input(\"Digite o peso (em kg): \"))\n",
    "    altura = float(input(\"Digite a altura (em metros): \"))\n",
    "\n",
    "    imc = peso / (altura ** 2)\n",
    "    print(f\"IMC da pessoa {i}: {imc:.2f}\")\n",
    "\n",
    "    # Acumula para calcular média\n",
    "    soma_pesos += peso\n",
    "    soma_alturas += altura\n",
    "\n",
    "    # Atualiza maior e menor IMC\n",
    "    if i == 1:\n",
    "        maior_imc = imc\n",
    "        menor_imc = imc\n",
    "    else:\n",
    "        if imc > maior_imc:\n",
    "            maior_imc = imc\n",
    "        if imc < menor_imc:\n",
    "            menor_imc = imc\n",
    "\n",
    "# Calcula médias\n",
    "peso_medio = soma_pesos / 5\n",
    "altura_media = soma_alturas / 5\n",
    "\n",
    "# Exibe resultados\n",
    "print(\"\\n--- RESULTADOS ---\")\n",
    "print(f\"Peso médio: {peso_medio:.2f} kg\")\n",
    "print(f\"Altura média: {altura_media:.2f} m\")\n",
    "print(f\"Maior IMC: {maior_imc:.2f}\")\n",
    "print(f\"Menor IMC: {menor_imc:.2f}\")"
   ]
  },
  {
   "cell_type": "markdown",
   "metadata": {},
   "source": [
    "3. Faça um programa que receba um número inteiro x. Calcule e mostre o fatorial desse número (x!)."
   ]
  },
  {
   "cell_type": "code",
   "execution_count": 8,
   "metadata": {},
   "outputs": [
    {
     "name": "stdin",
     "output_type": "stream",
     "text": [
      "Digite um número inteiro não negativo:  4\n"
     ]
    },
    {
     "name": "stdout",
     "output_type": "stream",
     "text": [
      "O fatorial de 4 é 24\n"
     ]
    }
   ],
   "source": [
    "x = int(input(\"Digite um número inteiro não negativo: \"))\n",
    "\n",
    "if x < 0:\n",
    "    print(\"Fatorial não existe para números negativos.\")\n",
    "else:\n",
    "    fatorial = 1\n",
    "    for i in range(1, x + 1):\n",
    "        fatorial *= i\n",
    "    print(f\"O fatorial de {x} é {fatorial}\")"
   ]
  },
  {
   "cell_type": "markdown",
   "metadata": {},
   "source": [
    "4. Faça um programa que calcule os 10 primeiros números da sequencia de Fibonacci"
   ]
  },
  {
   "cell_type": "code",
   "execution_count": 10,
   "metadata": {},
   "outputs": [
    {
     "name": "stdout",
     "output_type": "stream",
     "text": [
      "Os 10 primeiros números da sequência de Fibonacci são:\n",
      "0 1 1 2 3 5 8 13 21 34 "
     ]
    }
   ],
   "source": [
    "# Inicializa os dois primeiros números da sequência\n",
    "fib1 = 0\n",
    "fib2 = 1\n",
    "\n",
    "print(\"Os 10 primeiros números da sequência de Fibonacci são:\")\n",
    "\n",
    "for i in range(10):\n",
    "    print(fib1, end=' ')\n",
    "    proximo = fib1 + fib2\n",
    "    fib1 = fib2\n",
    "    fib2 = proximo"
   ]
  },
  {
   "cell_type": "markdown",
   "metadata": {},
   "source": [
    "5. Faça um programa que leia o valor de um número inteiro (n) e mostre os (n) números primos a partir do número 1."
   ]
  },
  {
   "cell_type": "code",
   "execution_count": 12,
   "metadata": {},
   "outputs": [
    {
     "name": "stdin",
     "output_type": "stream",
     "text": [
      "Digite a quantidade de números primos que deseja mostrar:  4\n"
     ]
    },
    {
     "name": "stdout",
     "output_type": "stream",
     "text": [
      "2 3 5 7 "
     ]
    }
   ],
   "source": [
    "n = int(input(\"Digite a quantidade de números primos que deseja mostrar: \"))\n",
    "\n",
    "def eh_primo(num):\n",
    "    if num <= 1:\n",
    "        return False\n",
    "    for i in range(2, int(num**0.5) + 1):\n",
    "        if num % i == 0:\n",
    "            return False\n",
    "    return True\n",
    "\n",
    "count = 0  # conta quantos primos já achou\n",
    "num = 2    # começa a checar a partir do 2, que é o primeiro primo\n",
    "\n",
    "while count < n:\n",
    "    if eh_primo(num):\n",
    "        print(num, end=' ')\n",
    "        count += 1\n",
    "    num += 1"
   ]
  },
  {
   "cell_type": "markdown",
   "metadata": {},
   "source": [
    "## FIM da Aula 8"
   ]
  }
 ],
 "metadata": {
  "kernelspec": {
   "display_name": "Python [conda env:base] *",
   "language": "python",
   "name": "conda-base-py"
  },
  "language_info": {
   "codemirror_mode": {
    "name": "ipython",
    "version": 3
   },
   "file_extension": ".py",
   "mimetype": "text/x-python",
   "name": "python",
   "nbconvert_exporter": "python",
   "pygments_lexer": "ipython3",
   "version": "3.12.7"
  }
 },
 "nbformat": 4,
 "nbformat_minor": 4
}
