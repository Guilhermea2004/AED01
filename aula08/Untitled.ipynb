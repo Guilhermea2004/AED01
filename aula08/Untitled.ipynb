{
 "cells": [
  {
   "cell_type": "code",
   "execution_count": 41,
   "id": "a42179a7-91da-4f04-a243-28f7f0b240b9",
   "metadata": {},
   "outputs": [
    {
     "name": "stdin",
     "output_type": "stream",
     "text": [
      "Digite o lado a: 99\n",
      "digite o lado b: 99\n",
      "digite o lado c: 99\n"
     ]
    },
    {
     "name": "stdout",
     "output_type": "stream",
     "text": [
      " Ele é um triangulo equilatero\n"
     ]
    }
   ],
   "source": [
    "a= float(input(\"Digite o lado a:\"))\n",
    "b= float(input(\"digite o lado b:\"))\n",
    "c= float(input(\"digite o lado c:\"))\n",
    "\n",
    "if(a+b>c)and (b+c>a)and (a+c>b):\n",
    "    # é um triangulo\n",
    "    if (a==b==c):\n",
    "        print(\" Ele é um triangulo equilatero\")\n",
    "    elif(a == b) or (b == c) or (a == c):\n",
    "        print(\" É um trinagulo isóceles\")\n",
    "    else:\n",
    "        print(\" É um triangulo escaleno\")\n",
    "\n",
    "else:\n",
    "    print(\" Não é um triangulo\")"
   ]
  },
  {
   "cell_type": "code",
   "execution_count": 47,
   "id": "9e14847b-57b8-4d37-90af-1d52ef96d56c",
   "metadata": {},
   "outputs": [
    {
     "ename": "SyntaxError",
     "evalue": "invalid syntax (1356003597.py, line 5)",
     "output_type": "error",
     "traceback": [
      "\u001b[1;36m  Cell \u001b[1;32mIn[47], line 5\u001b[1;36m\u001b[0m\n\u001b[1;33m    elif:(a+b<185):\u001b[0m\n\u001b[1;37m        ^\u001b[0m\n\u001b[1;31mSyntaxError\u001b[0m\u001b[1;31m:\u001b[0m invalid syntax\n"
     ]
    }
   ],
   "source": [
    "a=98\n",
    "b=87\n",
    "if(a+b>185):\n",
    "    print(\" resultado maior\")\n",
    "elif:(a+b<185):\n",
    "    print(\" resultado menor\")"
   ]
  },
  {
   "cell_type": "code",
   "execution_count": null,
   "id": "9f28332e-d58f-4457-b113-8ee879712c66",
   "metadata": {},
   "outputs": [],
   "source": []
  }
 ],
 "metadata": {
  "kernelspec": {
   "display_name": "Python [conda env:base] *",
   "language": "python",
   "name": "conda-base-py"
  },
  "language_info": {
   "codemirror_mode": {
    "name": "ipython",
    "version": 3
   },
   "file_extension": ".py",
   "mimetype": "text/x-python",
   "name": "python",
   "nbconvert_exporter": "python",
   "pygments_lexer": "ipython3",
   "version": "3.12.7"
  }
 },
 "nbformat": 4,
 "nbformat_minor": 5
}
