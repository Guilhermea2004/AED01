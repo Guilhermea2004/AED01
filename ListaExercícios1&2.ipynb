{
 "cells": [
  {
   "cell_type": "markdown",
   "id": "60fd487c-1993-4c12-933e-ad9639e2ff62",
   "metadata": {},
   "source": [
    "0. Faça um algoritmo para ler um número e mostrar se ele é par ou impar, positivo ou negativo."
   ]
  },
  {
   "cell_type": "code",
   "execution_count": 1,
   "id": "1b28e4f3-8e95-4288-bfc2-9ca1d46e235b",
   "metadata": {},
   "outputs": [
    {
     "name": "stdin",
     "output_type": "stream",
     "text": [
      "Digite um número:  5\n"
     ]
    },
    {
     "name": "stdout",
     "output_type": "stream",
     "text": [
      "Ímpar\n",
      "Positivo\n"
     ]
    }
   ],
   "source": [
    "numero = int(input(\"Digite um número: \"))\n",
    "\n",
    "if numero % 2 == 0:\n",
    "    print(\"Par\")\n",
    "else:\n",
    "    print(\"Ímpar\")\n",
    "\n",
    "if numero >= 0:\n",
    "    print(\"Positivo\")\n",
    "else:\n",
    "    print(\"Negativo\")"
   ]
  },
  {
   "cell_type": "markdown",
   "id": "e9cc639b-1960-46fe-8620-0a6e87025139",
   "metadata": {},
   "source": [
    "1. Faça um Programa que peça dois números e imprima o maior deles. "
   ]
  },
  {
   "cell_type": "code",
   "execution_count": 2,
   "id": "72ed1e3a-c8bf-443a-be3d-2957a1e92569",
   "metadata": {},
   "outputs": [
    {
     "name": "stdin",
     "output_type": "stream",
     "text": [
      "Digite o primeiro número:  10\n",
      "Digite o segundo número:  7\n"
     ]
    },
    {
     "name": "stdout",
     "output_type": "stream",
     "text": [
      "O maior número é: 10.0\n"
     ]
    }
   ],
   "source": [
    "num1 = float(input(\"Digite o primeiro número: \"))\n",
    "num2 = float(input(\"Digite o segundo número: \"))\n",
    "\n",
    "if num1 > num2:\n",
    "    print(\"O maior número é:\", num1)\n",
    "else:\n",
    "    print(\"O maior número é:\", num2)"
   ]
  },
  {
   "cell_type": "markdown",
   "id": "3d3a35e8-c816-4dee-be4b-d301d09397fd",
   "metadata": {},
   "source": [
    "2. Faça um Programa que peça um valor e mostre na tela se o valor é positivo ou negativo. "
   ]
  },
  {
   "cell_type": "code",
   "execution_count": 3,
   "id": "d25b1d53-db6e-4d47-bada-63d18e2f71cc",
   "metadata": {},
   "outputs": [
    {
     "name": "stdin",
     "output_type": "stream",
     "text": [
      "Digite um valor:  9\n"
     ]
    },
    {
     "name": "stdout",
     "output_type": "stream",
     "text": [
      "Valor positivo\n"
     ]
    }
   ],
   "source": [
    "valor = float(input(\"Digite um valor: \"))\n",
    "\n",
    "if valor >= 0:\n",
    "    print(\"Valor positivo\")\n",
    "else:\n",
    "    print(\"Valor negativo\")"
   ]
  },
  {
   "cell_type": "markdown",
   "id": "c1fc8a26-773f-4df2-bbc8-4a68e7d85be8",
   "metadata": {},
   "source": [
    "3. Faça um Programa que verifique se uma letra digitada é vogal ou consoante."
   ]
  },
  {
   "cell_type": "code",
   "execution_count": 5,
   "id": "dfb14011-6ae1-4498-93ab-2896f7e041bf",
   "metadata": {},
   "outputs": [
    {
     "name": "stdin",
     "output_type": "stream",
     "text": [
      "Digite uma letra:  G\n"
     ]
    },
    {
     "name": "stdout",
     "output_type": "stream",
     "text": [
      "A letra digitada é uma consoante.\n"
     ]
    }
   ],
   "source": [
    "# Programa para verificar se uma letra é vogal ou consoante\n",
    "\n",
    "letra = input(\"Digite uma letra: \").lower()\n",
    "\n",
    "if len(letra) != 1 or not letra.isalpha():\n",
    "    print(\"Por favor, digite apenas uma letra do alfabeto.\")\n",
    "elif letra in 'aeiou':\n",
    "    print(\"A letra digitada é uma vogal.\")\n",
    "else:\n",
    "    print(\"A letra digitada é uma consoante.\")\n"
   ]
  },
  {
   "cell_type": "markdown",
   "id": "32d9201b-ad01-49e1-8cd2-9bad7cbb1352",
   "metadata": {},
   "source": [
    "4. Faça um programa para a leitura de duas notas parciais de um aluno. O programa deve calcular a média alcançada por \n",
    "aluno e apresentar: "
   ]
  },
  {
   "cell_type": "code",
   "execution_count": 9,
   "id": "9d669299-1bdb-41d1-8741-7a81a795e60b",
   "metadata": {},
   "outputs": [
    {
     "name": "stdin",
     "output_type": "stream",
     "text": [
      "Digite a primeira nota:  10\n",
      "Digite a segunda nota:  10\n"
     ]
    },
    {
     "name": "stdout",
     "output_type": "stream",
     "text": [
      "A média do aluno é: 10.00\n",
      "Aprovado com Distinção\n"
     ]
    }
   ],
   "source": [
    "nota1 = float(input(\"Digite a primeira nota: \"))\n",
    "nota2 = float(input(\"Digite a segunda nota: \"))\n",
    "\n",
    "media = (nota1 + nota2) / 2\n",
    "\n",
    "print(f\"A média do aluno é: {media:.2f}\")\n",
    "\n",
    "if media == 10:\n",
    "    print(\"Aprovado com Distinção\")\n",
    "elif media >= 7:\n",
    "    print(\"Aprovado\")\n",
    "else:\n",
    "    print(\"Reprovado\")\n"
   ]
  },
  {
   "cell_type": "markdown",
   "id": "2e3eb094-e0c8-4db9-ae1a-50ff48869159",
   "metadata": {},
   "source": [
    "5. Faça um programa que pergunte o preço de três produtos e informe qual produto você deve comprar, sabendo que a \n",
    "decisão é sempre pelo mais barato."
   ]
  },
  {
   "cell_type": "code",
   "execution_count": 10,
   "id": "ffb6ca57-13d3-4448-bcc4-cf523bb35c13",
   "metadata": {},
   "outputs": [
    {
     "name": "stdin",
     "output_type": "stream",
     "text": [
      "Digite o preço do primeiro produto:  25\n",
      "Digite o preço do segundo produto:  12\n",
      "Digite o preço do terceiro produto:  9\n"
     ]
    },
    {
     "name": "stdout",
     "output_type": "stream",
     "text": [
      "Você deve comprar o terceiro produto.\n"
     ]
    }
   ],
   "source": [
    "preco1 = float(input(\"Digite o preço do primeiro produto: \"))\n",
    "preco2 = float(input(\"Digite o preço do segundo produto: \"))\n",
    "preco3 = float(input(\"Digite o preço do terceiro produto: \"))\n",
    "\n",
    "if preco1 < preco2 and preco1 < preco3:\n",
    "    print(\"Você deve comprar o primeiro produto.\")\n",
    "elif preco2 < preco1 and preco2 < preco3:\n",
    "    print(\"Você deve comprar o segundo produto.\")\n",
    "else:\n",
    "    print(\"Você deve comprar o terceiro produto.\")"
   ]
  },
  {
   "cell_type": "markdown",
   "id": "adecbd68-d817-48fb-bcfb-abfbebda2a8f",
   "metadata": {},
   "source": [
    "6. Faça um Programa que leia três números e mostre-os em ordem decrescente."
   ]
  },
  {
   "cell_type": "code",
   "execution_count": 11,
   "id": "5c6ac0e6-b1c5-4bb1-b888-05373cd05c3d",
   "metadata": {},
   "outputs": [
    {
     "name": "stdin",
     "output_type": "stream",
     "text": [
      "Digite o primeiro número:  10\n",
      "Digite o segundo número:  5\n",
      "Digite o terceiro número:  22\n"
     ]
    },
    {
     "name": "stdout",
     "output_type": "stream",
     "text": [
      "Números em ordem decrescente: [22.0, 10.0, 5.0]\n"
     ]
    }
   ],
   "source": [
    "num1 = float(input(\"Digite o primeiro número: \"))\n",
    "num2 = float(input(\"Digite o segundo número: \"))\n",
    "num3 = float(input(\"Digite o terceiro número: \"))\n",
    "\n",
    "numeros = [num1, num2, num3]\n",
    "numeros.sort(reverse=True)\n",
    "\n",
    "print(\"Números em ordem decrescente:\", numeros)"
   ]
  },
  {
   "cell_type": "markdown",
   "id": "9a014c6a-587c-414c-bada-3a96e5aba6d8",
   "metadata": {},
   "source": [
    "7. Faça um Programa que pergunte em que turno você estuda. Peça para digitar M-matutino ou V-Vespertino ou N- Noturno. \n",
    "Imprima a mensagem \"Bom Dia!\", \"Boa Tarde!\" ou \"Boa Noite!\" ou \"Valor Inválido!\", conforme o caso."
   ]
  },
  {
   "cell_type": "code",
   "execution_count": 13,
   "id": "6923fd99-d79e-4534-ab88-a8646d70464e",
   "metadata": {},
   "outputs": [
    {
     "name": "stdin",
     "output_type": "stream",
     "text": [
      "Em que turno você estuda? (M - Matutino, V - Vespertino, N - Noturno):  N\n"
     ]
    },
    {
     "name": "stdout",
     "output_type": "stream",
     "text": [
      "Boa Noite!\n"
     ]
    }
   ],
   "source": [
    "turno = input(\"Em que turno você estuda? (M - Matutino, V - Vespertino, N - Noturno): \").upper()\n",
    "\n",
    "if turno == 'M':\n",
    "    print(\"Bom Dia!\")\n",
    "elif turno == 'V':\n",
    "    print(\"Boa Tarde!\")\n",
    "elif turno == 'N':\n",
    "    print(\"Boa Noite!\")\n",
    "else:\n",
    "    print(\"Valor Inválido!\")"
   ]
  },
  {
   "cell_type": "markdown",
   "id": "15815699-564c-4f9b-8dc4-c36dca93296a",
   "metadata": {},
   "source": [
    "8. As Organizações Tabajara resolveram dar um aumento de salário aos seus colaboradores e lhe contraram para \n",
    "desenvolver o programa que calculará os reajustes. \n",
    "a. Faça um programa que recebe o salário de um colaborador e o reajuste segundo o seguinte critério, baseado no \n",
    "salário atual: \n",
    "b. salários até R$ 280,00 (incluindo) : aumento de 20% \n",
    "c. \n",
    "salários entre R$ 280,00 e R$ 700,00 : aumento de 15% \n",
    "d. salários entre R$ 700,00 e R$ 1500,00 : aumento de 10% \n",
    "e. salários de R$ 1500,00 em diante : aumento de 5% Após o aumento ser realizado, informe na tela: \n",
    "f. \n",
    "o salário antes do reajuste; \n",
    "g. o percentual de aumento aplicado; \n",
    "h. o valor do aumento; \n",
    "i. \n",
    "o novo salário, após o aumento. "
   ]
  },
  {
   "cell_type": "code",
   "execution_count": 14,
   "id": "33b05db0-ea65-4a0e-a415-a96825d6522f",
   "metadata": {},
   "outputs": [
    {
     "name": "stdin",
     "output_type": "stream",
     "text": [
      "Digite o salário atual do colaborador:  2500\n"
     ]
    },
    {
     "name": "stdout",
     "output_type": "stream",
     "text": [
      "Salário antes do reajuste: R$ 2500.00\n",
      "Percentual de aumento aplicado: 5%\n",
      "Valor do aumento: R$ 125.00\n",
      "Novo salário após o aumento: R$ 2625.00\n"
     ]
    }
   ],
   "source": [
    "salario = float(input(\"Digite o salário atual do colaborador: \"))\n",
    "\n",
    "if salario <= 280:\n",
    "    percentual = 20\n",
    "elif salario <= 700:\n",
    "    percentual = 15\n",
    "elif salario <= 1500:\n",
    "    percentual = 10\n",
    "else:\n",
    "    percentual = 5\n",
    "\n",
    "aumento = salario * (percentual / 100)\n",
    "novo_salario = salario + aumento\n",
    "\n",
    "print(f\"Salário antes do reajuste: R$ {salario:.2f}\")\n",
    "print(f\"Percentual de aumento aplicado: {percentual}%\")\n",
    "print(f\"Valor do aumento: R$ {aumento:.2f}\")\n",
    "print(f\"Novo salário após o aumento: R$ {novo_salario:.2f}\")"
   ]
  },
  {
   "cell_type": "markdown",
   "id": "6f474631-e3b8-4273-9687-90268b1436e2",
   "metadata": {},
   "source": [
    "9. Faça um programa para o cálculo de uma folha de pagamento, sabendo que os descontos são do Imposto de Renda, que \n",
    "depende do salário bruto (conforme tabela abaixo) e 3% para o Sindicato e que o FGTS corresponde a 11% do Salário \n",
    "Bruto, mas não é descontado (é a empresa que deposita). O Salário Líquido corresponde ao Salário Bruto menos os \n",
    "descontos. O programa deverá pedir ao usuário o valor da sua hora e a quantidade de horas trabalhadas no mês. "
   ]
  },
  {
   "cell_type": "code",
   "execution_count": 16,
   "id": "1f4b6e88-ccba-4d66-959b-bf3e7168ddc3",
   "metadata": {},
   "outputs": [
    {
     "name": "stdin",
     "output_type": "stream",
     "text": [
      "Digite o valor da sua hora de trabalho:  10\n",
      "Digite a quantidade de horas trabalhadas no mês:  5000\n"
     ]
    },
    {
     "name": "stdout",
     "output_type": "stream",
     "text": [
      "Salário Bruto: (10.0 * 5000.0)     : R$ 50000.00\n",
      "(-) IR (20%)                     : R$ 10000.00\n",
      "(-) INSS (10%)                   : R$ 5000.00\n",
      "(-) Sindicato (3%)               : R$ 1500.00\n",
      "FGTS (11%)                       : R$ 5500.00\n",
      "Total de descontos               : R$ 16500.00\n",
      "Salário Líquido                  : R$ 33500.00\n"
     ]
    }
   ],
   "source": [
    "valor_hora = float(input(\"Digite o valor da sua hora de trabalho: \"))\n",
    "horas_mes = float(input(\"Digite a quantidade de horas trabalhadas no mês: \"))\n",
    "\n",
    "salario_bruto = valor_hora * horas_mes\n",
    "\n",
    "# Cálculo do IR\n",
    "if salario_bruto <= 900:\n",
    "    ir_percentual = 0\n",
    "elif salario_bruto <= 1500:\n",
    "    ir_percentual = 5\n",
    "elif salario_bruto <= 2500:\n",
    "    ir_percentual = 10\n",
    "else:\n",
    "    ir_percentual = 20\n",
    "\n",
    "ir = salario_bruto * (ir_percentual / 100)\n",
    "inss = salario_bruto * 0.10\n",
    "fgts = salario_bruto * 0.11\n",
    "sindicato = salario_bruto * 0.03\n",
    "\n",
    "total_descontos = ir + inss + sindicato\n",
    "salario_liquido = salario_bruto - total_descontos\n",
    "\n",
    "print(f\"Salário Bruto: ({valor_hora} * {horas_mes})     : R$ {salario_bruto:.2f}\")\n",
    "print(f\"(-) IR ({ir_percentual}%)                     : R$ {ir:.2f}\")\n",
    "print(f\"(-) INSS (10%)                   : R$ {inss:.2f}\")\n",
    "print(f\"(-) Sindicato (3%)               : R$ {sindicato:.2f}\")\n",
    "print(f\"FGTS (11%)                       : R$ {fgts:.2f}\")\n",
    "print(f\"Total de descontos               : R$ {total_descontos:.2f}\")\n",
    "print(f\"Salário Líquido                  : R$ {salario_liquido:.2f}\")"
   ]
  },
  {
   "cell_type": "markdown",
   "id": "9d6c6139-2a0f-4d5c-b77f-f88a3ad1e2e4",
   "metadata": {},
   "source": [
    "10. Faça um programa que lê as duas notas parciais obtidas por um aluno numa disciplina ao longo de um semestre, e calcule \n",
    "a sua média. A atribuição de conceitos obedece à tabela abaixo: "
   ]
  },
  {
   "cell_type": "code",
   "execution_count": 18,
   "id": "8362dccc-9dde-47a3-b83c-6c46a7112687",
   "metadata": {},
   "outputs": [
    {
     "name": "stdin",
     "output_type": "stream",
     "text": [
      "Digite a primeira nota:  10\n",
      "Digite a segunda nota:  9\n"
     ]
    },
    {
     "name": "stdout",
     "output_type": "stream",
     "text": [
      "Média: 9.50\n",
      "Conceito: A\n"
     ]
    }
   ],
   "source": [
    "nota1 = float(input(\"Digite a primeira nota: \"))\n",
    "nota2 = float(input(\"Digite a segunda nota: \"))\n",
    "\n",
    "media = (nota1 + nota2) / 2\n",
    "\n",
    "if 9.0 <= media <= 10.0:\n",
    "    conceito = 'A'\n",
    "elif 7.5 <= media < 9.0:\n",
    "    conceito = 'B'\n",
    "elif 6.0 <= media < 7.5:\n",
    "    conceito = 'C'\n",
    "elif 4.0 <= media < 6.0:\n",
    "    conceito = 'D'\n",
    "elif 0 <= media < 4.0:\n",
    "    conceito = 'E'\n",
    "else:\n",
    "    conceito = 'Nota inválida'\n",
    "\n",
    "print(f\"Média: {media:.2f}\")\n",
    "print(f\"Conceito: {conceito}\")"
   ]
  },
  {
   "cell_type": "markdown",
   "id": "0956205f-947c-40ad-992d-d4fdd2318971",
   "metadata": {},
   "source": []
  },
  {
   "attachments": {},
   "cell_type": "markdown",
   "id": "802d78bb-466d-4099-8355-5fd81c718549",
   "metadata": {},
   "source": [
    "                                                         PARTE 2: LOOPS DE REPETIÇÃO \n"
   ]
  },
  {
   "cell_type": "markdown",
   "id": "27eacf47-96cb-4368-b46d-8cdc7a03f8a1",
   "metadata": {},
   "source": [
    "1. Faça um programa que peça uma nota, entre zero e dez. Mostre uma mensagem caso o valor seja inválido e continue \n",
    "pedindo até que o usuário informe um valor válido. "
   ]
  },
  {
   "cell_type": "code",
   "execution_count": 20,
   "id": "bf1e5f0b-c667-4af3-b872-832109149992",
   "metadata": {},
   "outputs": [
    {
     "name": "stdin",
     "output_type": "stream",
     "text": [
      "Digite uma nota entre 0 e 10:  15\n"
     ]
    },
    {
     "name": "stdout",
     "output_type": "stream",
     "text": [
      "Valor inválido! Tente novamente.\n"
     ]
    },
    {
     "name": "stdin",
     "output_type": "stream",
     "text": [
      "Digite uma nota entre 0 e 10:  10\n"
     ]
    },
    {
     "name": "stdout",
     "output_type": "stream",
     "text": [
      "Nota válida: 10.0\n"
     ]
    }
   ],
   "source": [
    "while True:\n",
    "    nota = float(input(\"Digite uma nota entre 0 e 10: \"))\n",
    "    if 0 <= nota <= 10:\n",
    "        print(f\"Nota válida: {nota}\")\n",
    "        break\n",
    "    else:\n",
    "        print(\"Valor inválido! Tente novamente.\")"
   ]
  },
  {
   "cell_type": "markdown",
   "id": "c6dfaea7-5785-4d6d-9518-39bf3f4d3f0a",
   "metadata": {},
   "source": [
    "2. Faça um programa que leia um nome de usuário e a sua senha e não aceite a senha igual ao nome do usuário, mostrando \n",
    "uma mensagem de erro e voltando a pedir as informações. "
   ]
  },
  {
   "cell_type": "code",
   "execution_count": 21,
   "id": "54a838d6-f4a1-468a-9721-f70d5fb13876",
   "metadata": {},
   "outputs": [
    {
     "name": "stdin",
     "output_type": "stream",
     "text": [
      "Digite o nome de usuário:  Guilherme\n",
      "Digite a senha:  2007\n"
     ]
    },
    {
     "name": "stdout",
     "output_type": "stream",
     "text": [
      "Usuário e senha cadastrados com sucesso!\n"
     ]
    }
   ],
   "source": [
    "while True:\n",
    "    usuario = input(\"Digite o nome de usuário: \")\n",
    "    senha = input(\"Digite a senha: \")\n",
    "    \n",
    "    if senha == usuario:\n",
    "        print(\"Erro: a senha não pode ser igual ao nome de usuário. Tente novamente.\")\n",
    "    else:\n",
    "        print(\"Usuário e senha cadastrados com sucesso!\")\n",
    "        break"
   ]
  },
  {
   "cell_type": "markdown",
   "id": "061b38e9-c9f6-48a4-9f67-f8cf4c80fb51",
   "metadata": {},
   "source": [
    "3. Faça um programa que leia e valide as seguintes informações:"
   ]
  },
  {
   "cell_type": "code",
   "execution_count": 22,
   "id": "b58d3d4b-7c4e-43a6-b750-4686e2a67240",
   "metadata": {},
   "outputs": [
    {
     "name": "stdin",
     "output_type": "stream",
     "text": [
      "Digite o nome (mais que 3 caracteres):  Guilherme\n",
      "Digite a idade (0 a 150):  18\n",
      "Digite o salário (maior que zero):  2000\n",
      "Digite o sexo ('f' ou 'm'):  m\n",
      "Digite o estado civil ('s', 'c', 'v', 'd'):  s\n"
     ]
    },
    {
     "name": "stdout",
     "output_type": "stream",
     "text": [
      "\n",
      "Dados cadastrados com sucesso:\n",
      "Nome: Guilherme\n",
      "Idade: 18\n",
      "Salário: R$ 2000.00\n",
      "Sexo: m\n",
      "Estado Civil: s\n"
     ]
    }
   ],
   "source": [
    "while True:\n",
    "    nome = input(\"Digite o nome (mais que 3 caracteres): \")\n",
    "    if len(nome) > 3:\n",
    "        break\n",
    "    else:\n",
    "        print(\"Nome inválido! Deve ter mais que 3 caracteres.\")\n",
    "\n",
    "while True:\n",
    "    idade = int(input(\"Digite a idade (0 a 150): \"))\n",
    "    if 0 <= idade <= 150:\n",
    "        break\n",
    "    else:\n",
    "        print(\"Idade inválida! Deve estar entre 0 e 150.\")\n",
    "\n",
    "while True:\n",
    "    salario = float(input(\"Digite o salário (maior que zero): \"))\n",
    "    if salario > 0:\n",
    "        break\n",
    "    else:\n",
    "        print(\"Salário inválido! Deve ser maior que zero.\")\n",
    "\n",
    "while True:\n",
    "    sexo = input(\"Digite o sexo ('f' ou 'm'): \").lower()\n",
    "    if sexo in ['f', 'm']:\n",
    "        break\n",
    "    else:\n",
    "        print(\"Sexo inválido! Digite 'f' para feminino ou 'm' para masculino.\")\n",
    "\n",
    "while True:\n",
    "    estado_civil = input(\"Digite o estado civil ('s', 'c', 'v', 'd'): \").lower()\n",
    "    if estado_civil in ['s', 'c', 'v', 'd']:\n",
    "        break\n",
    "    else:\n",
    "        print(\"Estado civil inválido! Digite 's', 'c', 'v' ou 'd'.\")\n",
    "\n",
    "print(\"\\nDados cadastrados com sucesso:\")\n",
    "print(f\"Nome: {nome}\")\n",
    "print(f\"Idade: {idade}\")\n",
    "print(f\"Salário: R$ {salario:.2f}\")\n",
    "print(f\"Sexo: {sexo}\")\n",
    "print(f\"Estado Civil: {estado_civil}\")"
   ]
  },
  {
   "cell_type": "markdown",
   "id": "b8164dd0-240d-4fe6-906f-f5b874a81271",
   "metadata": {},
   "source": [
    "4. Supondo que a população de um país A seja da ordem de 80000 habitantes com uma taxa anual de crescimento de 3% e \n",
    "que a população de B seja 200000 habitantes com uma taxa de crescimento de 1.5%. Faça um programa que calcule e \n",
    "escreva o número de anos necessários para que a população do país A ultrapasse ou iguale a população do país B, \n",
    "mantidas as taxas de crescimento. "
   ]
  },
  {
   "cell_type": "code",
   "execution_count": 23,
   "id": "cf3b7a19-9303-4778-91e6-044de061c511",
   "metadata": {},
   "outputs": [
    {
     "name": "stdout",
     "output_type": "stream",
     "text": [
      "Serão necessários 63 anos para que a população do país A ultrapasse ou iguale a do país B.\n"
     ]
    }
   ],
   "source": [
    "pop_a = 80000\n",
    "taxa_a = 0.03  # 3%\n",
    "\n",
    "pop_b = 200000\n",
    "taxa_b = 0.015  # 1.5%\n",
    "\n",
    "anos = 0\n",
    "\n",
    "while pop_a < pop_b:\n",
    "    pop_a += pop_a * taxa_a\n",
    "    pop_b += pop_b * taxa_b\n",
    "    anos += 1\n",
    "\n",
    "print(f\"Serão necessários {anos} anos para que a população do país A ultrapasse ou iguale a do país B.\")"
   ]
  },
  {
   "cell_type": "markdown",
   "id": "c1640d0a-8c31-41e6-84e3-3e5ae396dea4",
   "metadata": {},
   "source": [
    "5. Faça um programa que leia 5 números e informe a soma e a média dos números. "
   ]
  },
  {
   "cell_type": "code",
   "execution_count": 24,
   "id": "4456b50f-1edc-422c-ac91-388e9913d4be",
   "metadata": {},
   "outputs": [
    {
     "name": "stdin",
     "output_type": "stream",
     "text": [
      "Digite o 1º número:  11\n",
      "Digite o 2º número:  10\n",
      "Digite o 3º número:  7\n",
      "Digite o 4º número:  9\n",
      "Digite o 5º número:  8\n"
     ]
    },
    {
     "name": "stdout",
     "output_type": "stream",
     "text": [
      "Soma dos números: 45.0\n",
      "Média dos números: 9.0\n"
     ]
    }
   ],
   "source": [
    "numeros = []\n",
    "\n",
    "for i in range(5):\n",
    "    num = float(input(f\"Digite o {i+1}º número: \"))\n",
    "    numeros.append(num)\n",
    "\n",
    "soma = sum(numeros)\n",
    "media = soma / 5\n",
    "\n",
    "print(f\"Soma dos números: {soma}\")\n",
    "print(f\"Média dos números: {media}\")"
   ]
  },
  {
   "cell_type": "markdown",
   "id": "bf497c47-d6de-4211-9ca0-72a35783f6b8",
   "metadata": {},
   "source": [
    "6. Desenvolva um gerador de tabuada, capaz de gerar a tabuada de qualquer número inteiro entre 1 a 10. O usuário deve \n",
    "informar de qual numero ele deseja ver a tabuada. A saída deve ser conforme o exemplo abaixo: "
   ]
  },
  {
   "cell_type": "code",
   "execution_count": 25,
   "id": "6a28c3b6-20f7-468d-aec1-18f66258cf36",
   "metadata": {},
   "outputs": [
    {
     "name": "stdin",
     "output_type": "stream",
     "text": [
      "Digite um número inteiro entre 1 e 10 para ver a tabuada:  7\n"
     ]
    },
    {
     "name": "stdout",
     "output_type": "stream",
     "text": [
      "Tabuada de 7:\n",
      "7 x 1 = 7\n",
      "7 x 2 = 14\n",
      "7 x 3 = 21\n",
      "7 x 4 = 28\n",
      "7 x 5 = 35\n",
      "7 x 6 = 42\n",
      "7 x 7 = 49\n",
      "7 x 8 = 56\n",
      "7 x 9 = 63\n",
      "7 x 10 = 70\n"
     ]
    }
   ],
   "source": [
    "numero = int(input(\"Digite um número inteiro entre 1 e 10 para ver a tabuada: \"))\n",
    "\n",
    "if 1 <= numero <= 10:\n",
    "    print(f\"Tabuada de {numero}:\")\n",
    "    for i in range(1, 11):\n",
    "        resultado = numero * i\n",
    "        print(f\"{numero} x {i} = {resultado}\")\n",
    "else:\n",
    "    print(\"Número inválido! Digite um número entre 1 e 10.\")"
   ]
  },
  {
   "cell_type": "markdown",
   "id": "a43a46b5-89f4-468e-a80d-3db8bbfe9df7",
   "metadata": {},
   "source": [
    "7. A série de Fibonacci é formada pela seqüência 1,1,2,3,5,8,13,21,34,55,... Faça um programa capaz de gerar a série até o \n",
    "n−ésimo termo."
   ]
  },
  {
   "cell_type": "code",
   "execution_count": 27,
   "id": "c54c9ce5-1590-4cc3-83ad-f54b98988a3c",
   "metadata": {},
   "outputs": [
    {
     "name": "stdin",
     "output_type": "stream",
     "text": [
      "Digite o número de termos da série de Fibonacci que deseja gerar:  5\n"
     ]
    },
    {
     "name": "stdout",
     "output_type": "stream",
     "text": [
      "Série de Fibonacci:\n",
      "1 1 2 3 5 "
     ]
    }
   ],
   "source": [
    "n = int(input(\"Digite o número de termos da série de Fibonacci que deseja gerar: \"))\n",
    "\n",
    "a, b = 1, 1\n",
    "contador = 1\n",
    "\n",
    "if n <= 0:\n",
    "    print(\"Digite um número maior que zero.\")\n",
    "else:\n",
    "    print(\"Série de Fibonacci:\")\n",
    "    while contador <= n:\n",
    "        print(a, end=\" \")\n",
    "        a, b = b, a + b\n",
    "        contador += 1"
   ]
  },
  {
   "cell_type": "markdown",
   "id": "44ed0869-9c9e-408b-b4b0-1acaaa746d6d",
   "metadata": {},
   "source": [
    "8. Faça um programa que calcule o mostre a média aritmética de N notas. "
   ]
  },
  {
   "cell_type": "code",
   "execution_count": 28,
   "id": "a8721491-b4ed-4dac-9865-2c4cfd85a9ab",
   "metadata": {},
   "outputs": [
    {
     "name": "stdin",
     "output_type": "stream",
     "text": [
      "Quantas notas você deseja informar?  2\n",
      "Digite a nota 1:  9\n",
      "Digite a nota 2:  1\n"
     ]
    },
    {
     "name": "stdout",
     "output_type": "stream",
     "text": [
      "A média aritmética das 2 notas é: 5.00\n"
     ]
    }
   ],
   "source": [
    "n = int(input(\"Quantas notas você deseja informar? \"))\n",
    "\n",
    "if n <= 0:\n",
    "    print(\"Número inválido! Digite um valor maior que zero.\")\n",
    "else:\n",
    "    soma = 0\n",
    "    for i in range(n):\n",
    "        nota = float(input(f\"Digite a nota {i+1}: \"))\n",
    "        soma += nota\n",
    "    media = soma / n\n",
    "    print(f\"A média aritmética das {n} notas é: {media:.2f}\")"
   ]
  },
  {
   "cell_type": "markdown",
   "id": "8176e136-3c13-4e99-84ba-3191c0d21114",
   "metadata": {},
   "source": [
    "9. O Sr. Manoel Joaquim possui uma grande loja de artigos de R$ 1,99, com cerca de 10 caixas. Para agilizar o cálculo de \n",
    "quanto cada cliente deve pagar ele desenvolveu um tabela que contém o número de itens que o cliente comprou e ao lado \n",
    "o valor da conta. Desta forma a atendente do caixa precisa apenas contar quantos itens o cliente está levando e olhar na \n",
    "tabela de preços. Você foi contratado para desenvolver o programa que monta esta tabela de preços, que conterá os preços \n",
    "de 1 até 50 produtos, conforme o exemplo abaixo: "
   ]
  },
  {
   "cell_type": "code",
   "execution_count": 29,
   "id": "94065f1d-9c72-47ab-834d-465b1201eac4",
   "metadata": {},
   "outputs": [
    {
     "name": "stdout",
     "output_type": "stream",
     "text": [
      "Lojas Quase Dois - Tabela de preços\n",
      "1 - R$ 1.99\n",
      "2 - R$ 3.98\n",
      "3 - R$ 5.97\n",
      "4 - R$ 7.96\n",
      "5 - R$ 9.95\n",
      "6 - R$ 11.94\n",
      "7 - R$ 13.93\n",
      "8 - R$ 15.92\n",
      "9 - R$ 17.91\n",
      "10 - R$ 19.90\n",
      "11 - R$ 21.89\n",
      "12 - R$ 23.88\n",
      "13 - R$ 25.87\n",
      "14 - R$ 27.86\n",
      "15 - R$ 29.85\n",
      "16 - R$ 31.84\n",
      "17 - R$ 33.83\n",
      "18 - R$ 35.82\n",
      "19 - R$ 37.81\n",
      "20 - R$ 39.80\n",
      "21 - R$ 41.79\n",
      "22 - R$ 43.78\n",
      "23 - R$ 45.77\n",
      "24 - R$ 47.76\n",
      "25 - R$ 49.75\n",
      "26 - R$ 51.74\n",
      "27 - R$ 53.73\n",
      "28 - R$ 55.72\n",
      "29 - R$ 57.71\n",
      "30 - R$ 59.70\n",
      "31 - R$ 61.69\n",
      "32 - R$ 63.68\n",
      "33 - R$ 65.67\n",
      "34 - R$ 67.66\n",
      "35 - R$ 69.65\n",
      "36 - R$ 71.64\n",
      "37 - R$ 73.63\n",
      "38 - R$ 75.62\n",
      "39 - R$ 77.61\n",
      "40 - R$ 79.60\n",
      "41 - R$ 81.59\n",
      "42 - R$ 83.58\n",
      "43 - R$ 85.57\n",
      "44 - R$ 87.56\n",
      "45 - R$ 89.55\n",
      "46 - R$ 91.54\n",
      "47 - R$ 93.53\n",
      "48 - R$ 95.52\n",
      "49 - R$ 97.51\n",
      "50 - R$ 99.50\n"
     ]
    }
   ],
   "source": [
    "print(\"Lojas Quase Dois - Tabela de preços\")\n",
    "\n",
    "preco_unitario = 1.99\n",
    "\n",
    "for quantidade in range(1, 51):\n",
    "    valor = quantidade * preco_unitario\n",
    "    print(f\"{quantidade} - R$ {valor:.2f}\")"
   ]
  },
  {
   "cell_type": "code",
   "execution_count": null,
   "id": "d382821f-22e6-462c-8a15-54c6726d6a3d",
   "metadata": {},
   "outputs": [],
   "source": []
  }
 ],
 "metadata": {
  "kernelspec": {
   "display_name": "Python 3 (ipykernel)",
   "language": "python",
   "name": "python3"
  },
  "language_info": {
   "codemirror_mode": {
    "name": "ipython",
    "version": 3
   },
   "file_extension": ".py",
   "mimetype": "text/x-python",
   "name": "python",
   "nbconvert_exporter": "python",
   "pygments_lexer": "ipython3",
   "version": "3.13.3"
  }
 },
 "nbformat": 4,
 "nbformat_minor": 5
}
