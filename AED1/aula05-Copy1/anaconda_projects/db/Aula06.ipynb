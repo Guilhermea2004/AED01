{
 "cells": [
  {
   "cell_type": "markdown",
   "id": "ee3154d4-200d-4e33-8117-44145ed0ce48",
   "metadata": {},
   "source": [
    "# COMANDOS DE ENTRADA E SAIDA"
   ]
  },
  {
   "cell_type": "code",
   "execution_count": 5,
   "id": "3deb1759-b4ea-4a8e-b312-82c34f3e864c",
   "metadata": {},
   "outputs": [],
   "source": [
    "nome= \"Guilherme\""
   ]
  },
  {
   "cell_type": "code",
   "execution_count": 7,
   "id": "c6d0a4e6-c625-4b2e-8650-b1010680aa5a",
   "metadata": {},
   "outputs": [],
   "source": [
    "idade= \"18\""
   ]
  },
  {
   "cell_type": "code",
   "execution_count": 9,
   "id": "3fdb3b8d-b576-4bc8-b437-362a2301f79e",
   "metadata": {},
   "outputs": [
    {
     "name": "stdout",
     "output_type": "stream",
     "text": [
      "Guilherme tem 18 anos\n"
     ]
    }
   ],
   "source": [
    "print(nome, \"tem\" , idade, \"anos\" )"
   ]
  },
  {
   "cell_type": "code",
   "execution_count": 13,
   "id": "072f0f82-0348-43b9-8d35-c704423bcf9d",
   "metadata": {},
   "outputs": [
    {
     "name": "stdin",
     "output_type": "stream",
     "text": [
      "Digite seu nome:  Guilherme\n"
     ]
    }
   ],
   "source": [
    "nome=input(\"Digite seu nome: \")"
   ]
  },
  {
   "cell_type": "code",
   "execution_count": 15,
   "id": "e732cf5d-4ef5-4663-a49d-a9cad1ab46bb",
   "metadata": {},
   "outputs": [
    {
     "data": {
      "text/plain": [
       "'Guilherme'"
      ]
     },
     "execution_count": 15,
     "metadata": {},
     "output_type": "execute_result"
    }
   ],
   "source": [
    "nome"
   ]
  },
  {
   "cell_type": "code",
   "execution_count": 17,
   "id": "ad1d3262-eb65-415e-bee4-6e098e502e7c",
   "metadata": {},
   "outputs": [
    {
     "name": "stdin",
     "output_type": "stream",
     "text": [
      "digite sua idade:  18\n"
     ]
    }
   ],
   "source": [
    "idade=input(\"digite sua idade: \")"
   ]
  },
  {
   "cell_type": "code",
   "execution_count": 19,
   "id": "f22fc8cd-8fdd-46d8-aba2-5868aa476fae",
   "metadata": {},
   "outputs": [
    {
     "data": {
      "text/plain": [
       "'18'"
      ]
     },
     "execution_count": 19,
     "metadata": {},
     "output_type": "execute_result"
    }
   ],
   "source": [
    "idade"
   ]
  },
  {
   "cell_type": "code",
   "execution_count": 21,
   "id": "c30edba8-a5af-4626-a808-5184a1003d58",
   "metadata": {},
   "outputs": [],
   "source": [
    "idade=int(idade)"
   ]
  },
  {
   "cell_type": "code",
   "execution_count": 23,
   "id": "cc420882-9a3e-4e6a-a34b-12cf3d417e3e",
   "metadata": {},
   "outputs": [
    {
     "data": {
      "text/plain": [
       "18"
      ]
     },
     "execution_count": 23,
     "metadata": {},
     "output_type": "execute_result"
    }
   ],
   "source": [
    "idade"
   ]
  },
  {
   "cell_type": "code",
   "execution_count": 25,
   "id": "245267f1-ecb3-40a4-a428-2dd29b87059f",
   "metadata": {},
   "outputs": [
    {
     "data": {
      "text/plain": [
       "int"
      ]
     },
     "execution_count": 25,
     "metadata": {},
     "output_type": "execute_result"
    }
   ],
   "source": [
    "type(idade)"
   ]
  },
  {
   "cell_type": "code",
   "execution_count": 27,
   "id": "2e516403-0245-4e15-9abb-a94dec153dc9",
   "metadata": {},
   "outputs": [
    {
     "ename": "ValueError",
     "evalue": "invalid literal for int() with base 10: 'Guilherme'",
     "output_type": "error",
     "traceback": [
      "\u001b[1;31m---------------------------------------------------------------------------\u001b[0m",
      "\u001b[1;31mValueError\u001b[0m                                Traceback (most recent call last)",
      "Cell \u001b[1;32mIn[27], line 1\u001b[0m\n\u001b[1;32m----> 1\u001b[0m nome\u001b[38;5;241m=\u001b[39m\u001b[38;5;28mint\u001b[39m(nome)\n",
      "\u001b[1;31mValueError\u001b[0m: invalid literal for int() with base 10: 'Guilherme'"
     ]
    }
   ],
   "source": [
    "nome=int(nome)"
   ]
  },
  {
   "cell_type": "code",
   "execution_count": null,
   "id": "5fd0ba93-cb3d-447a-b73b-b9b1c663366e",
   "metadata": {},
   "outputs": [],
   "source": []
  },
  {
   "cell_type": "code",
   "execution_count": 31,
   "id": "bffd9678-64af-4c4d-93cf-13a2f0bcdc2d",
   "metadata": {},
   "outputs": [
    {
     "name": "stdin",
     "output_type": "stream",
     "text": [
      "digite sua idade:  18\n"
     ]
    }
   ],
   "source": [
    "idade=int(input(\"digite sua idade: \"))"
   ]
  },
  {
   "cell_type": "code",
   "execution_count": 33,
   "id": "7d6ea0df-9d91-4b7d-9622-dd45dad04c09",
   "metadata": {},
   "outputs": [
    {
     "data": {
      "text/plain": [
       "18"
      ]
     },
     "execution_count": 33,
     "metadata": {},
     "output_type": "execute_result"
    }
   ],
   "source": [
    "idade"
   ]
  },
  {
   "cell_type": "code",
   "execution_count": 35,
   "id": "40795c81-e589-4753-82eb-7e28cf114a77",
   "metadata": {},
   "outputs": [
    {
     "data": {
      "text/plain": [
       "int"
      ]
     },
     "execution_count": 35,
     "metadata": {},
     "output_type": "execute_result"
    }
   ],
   "source": [
    "type(idade)"
   ]
  },
  {
   "cell_type": "code",
   "execution_count": 37,
   "id": "1e2f142e-7c96-45fd-ba72-5c72d75d3394",
   "metadata": {},
   "outputs": [],
   "source": [
    "idade=float(idade)"
   ]
  },
  {
   "cell_type": "code",
   "execution_count": 39,
   "id": "c2fb8efc-7f3f-40a2-945f-4863510c4792",
   "metadata": {},
   "outputs": [
    {
     "data": {
      "text/plain": [
       "18.0"
      ]
     },
     "execution_count": 39,
     "metadata": {},
     "output_type": "execute_result"
    }
   ],
   "source": [
    "idade"
   ]
  },
  {
   "cell_type": "code",
   "execution_count": 41,
   "id": "1aeca15a-3c7a-4664-9e8e-afd174f89d9a",
   "metadata": {},
   "outputs": [
    {
     "data": {
      "text/plain": [
       "float"
      ]
     },
     "execution_count": 41,
     "metadata": {},
     "output_type": "execute_result"
    }
   ],
   "source": [
    "type(idade)"
   ]
  },
  {
   "cell_type": "code",
   "execution_count": 43,
   "id": "5cc7d80f-71bf-46e2-8142-e4bf73b629a4",
   "metadata": {},
   "outputs": [],
   "source": [
    "idade=int(idade)"
   ]
  },
  {
   "cell_type": "code",
   "execution_count": 45,
   "id": "05a09f94-6453-479b-8f43-85367ed4f017",
   "metadata": {},
   "outputs": [
    {
     "data": {
      "text/plain": [
       "18"
      ]
     },
     "execution_count": 45,
     "metadata": {},
     "output_type": "execute_result"
    }
   ],
   "source": [
    "idade"
   ]
  },
  {
   "cell_type": "code",
   "execution_count": 51,
   "id": "dae7fa3a-04a5-4d0f-a122-cc5793f90fc8",
   "metadata": {},
   "outputs": [
    {
     "name": "stdin",
     "output_type": "stream",
     "text": [
      "digite o lado maior:  5\n",
      "digite o lado menor:  3\n"
     ]
    },
    {
     "name": "stdout",
     "output_type": "stream",
     "text": [
      "a área do quadrilátero é :  15.0\n"
     ]
    }
   ],
   "source": [
    "lado1=float(input( \"digite o lado maior: \"))\n",
    "lado2=float(input(\"digite o lado menor: \"))\n",
    "area= lado1*lado2\n",
    "print(\"a área do quadrilátero é : \", area)"
   ]
  },
  {
   "cell_type": "code",
   "execution_count": null,
   "id": "3bc4395f-c8d3-4ac6-9ed7-7c19f209fd87",
   "metadata": {},
   "outputs": [],
   "source": []
  }
 ],
 "metadata": {
  "kernelspec": {
   "display_name": "Python [conda env:base] *",
   "language": "python",
   "name": "conda-base-py"
  },
  "language_info": {
   "codemirror_mode": {
    "name": "ipython",
    "version": 3
   },
   "file_extension": ".py",
   "mimetype": "text/x-python",
   "name": "python",
   "nbconvert_exporter": "python",
   "pygments_lexer": "ipython3",
   "version": "3.12.7"
  }
 },
 "nbformat": 4,
 "nbformat_minor": 5
}
