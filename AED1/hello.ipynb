{
 "cells": [
  {
   "cell_type": "code",
   "execution_count": 7,
   "id": "a8986333-819d-4c69-889c-1d3d68514d48",
   "metadata": {},
   "outputs": [
    {
     "name": "stdout",
     "output_type": "stream",
     "text": [
      "Olá Mundo\n"
     ]
    }
   ],
   "source": [
    "print( 'Olá Mundo') "
   ]
  },
  {
   "cell_type": "code",
   "execution_count": 14,
   "id": "0296baff-299c-4c3b-9c54-f51483d6ed86",
   "metadata": {},
   "outputs": [],
   "source": [
    "sal= 10000"
   ]
  },
  {
   "cell_type": "code",
   "execution_count": 16,
   "id": "db3ac833-f390-4a29-a0e3-1a42dda381d7",
   "metadata": {},
   "outputs": [],
   "source": [
    "aum= sal* 0.153"
   ]
  },
  {
   "cell_type": "code",
   "execution_count": 18,
   "id": "b36b7df1-5f8d-44a5-a098-5fd9bfb4ea05",
   "metadata": {},
   "outputs": [],
   "source": [
    "novo_sal = sal+ aum"
   ]
  },
  {
   "cell_type": "code",
   "execution_count": 20,
   "id": "be228795-c589-48a8-af0c-ccc1390c3c67",
   "metadata": {},
   "outputs": [
    {
     "name": "stdout",
     "output_type": "stream",
     "text": [
      "11530.0\n"
     ]
    }
   ],
   "source": [
    "print(novo_sal)"
   ]
  },
  {
   "cell_type": "code",
   "execution_count": 24,
   "id": "9bc1fe64-c74c-40d7-8e56-4d8622c40f0f",
   "metadata": {},
   "outputs": [
    {
     "data": {
      "text/plain": [
       "4"
      ]
     },
     "execution_count": 24,
     "metadata": {},
     "output_type": "execute_result"
    }
   ],
   "source": [
    "2+2\n",
    "# uma conta"
   ]
  },
  {
   "cell_type": "code",
   "execution_count": null,
   "id": "d05a5b27-570a-42f5-aa71-2b0f5b892fa6",
   "metadata": {},
   "outputs": [],
   "source": []
  }
 ],
 "metadata": {
  "kernelspec": {
   "display_name": "Python [conda env:base] *",
   "language": "python",
   "name": "conda-base-py"
  },
  "language_info": {
   "codemirror_mode": {
    "name": "ipython",
    "version": 3
   },
   "file_extension": ".py",
   "mimetype": "text/x-python",
   "name": "python",
   "nbconvert_exporter": "python",
   "pygments_lexer": "ipython3",
   "version": "3.12.7"
  }
 },
 "nbformat": 4,
 "nbformat_minor": 5
}
